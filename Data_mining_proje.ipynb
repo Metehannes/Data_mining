{
 "cells": [
  {
   "cell_type": "code",
   "execution_count": 201,
   "metadata": {},
   "outputs": [],
   "source": [
    "import pandas as pd\n",
    "import numpy as np\n",
    "import seaborn as sns \n",
    "import matplotlib.pyplot as plt\n",
    "from scipy import stats\n",
    "from scipy.stats import chi2_contingency, randint\n",
    "import warnings\n",
    "from sklearn.impute import SimpleImputer\n",
    "from sklearn.preprocessing import StandardScaler\n",
    "from sklearn.feature_selection import RFE\n",
    "from sklearn.linear_model import LogisticRegression\n",
    "from sklearn.tree import DecisionTreeClassifier\n",
    "from sklearn.ensemble import RandomForestClassifier\n",
    "from sklearn.model_selection import train_test_split, RandomizedSearchCV, GridSearchCV\n",
    "from sklearn.metrics import confusion_matrix, accuracy_score, precision_score, recall_score, f1_score\n",
    "from imblearn.over_sampling import SMOTE\n",
    "\n",
    "#Imported necessary libraries "
   ]
  },
  {
   "cell_type": "code",
   "execution_count": 202,
   "metadata": {},
   "outputs": [],
   "source": [
    "warnings.simplefilter(action='ignore', category=FutureWarning) # Closing future warnings for now to have simpler outputs "
   ]
  },
  {
   "cell_type": "code",
   "execution_count": 203,
   "metadata": {},
   "outputs": [],
   "source": [
    "def heatmapcw(figsize1, figsize2, data): #this function is for a easier access to heatmaps, i used them a lot during the writing of my code but had deleted them due to not needing them because i found better options for feature selection and elimination than looking at plain correlation\n",
    "    plt.figure(figsize= (figsize1,figsize2))\n",
    "    sns.heatmap(data, cmap=\"coolwarm\", annot= True)\n",
    "    plt.show()"
   ]
  },
  {
   "cell_type": "code",
   "execution_count": 204,
   "metadata": {},
   "outputs": [],
   "source": [
    "data_data = pd.read_csv(r\"C:\\Users\\Aleyna\\Desktop\\KHAS\\KHAS 2022-2023 bahar\\Mis220\\Preprocessing\\train.csv\", header=None) #because we were given a df without\n",
    "#column names, the pd.read_csv function takes the first index-row as column name. to prevent that i choose header= None\n",
    "\n",
    "data = pd.DataFrame(data_data) #here i transfer it to a dataframe"
   ]
  },
  {
   "cell_type": "code",
   "execution_count": 205,
   "metadata": {},
   "outputs": [
    {
     "data": {
      "text/html": [
       "<div>\n",
       "<style scoped>\n",
       "    .dataframe tbody tr th:only-of-type {\n",
       "        vertical-align: middle;\n",
       "    }\n",
       "\n",
       "    .dataframe tbody tr th {\n",
       "        vertical-align: top;\n",
       "    }\n",
       "\n",
       "    .dataframe thead th {\n",
       "        text-align: right;\n",
       "    }\n",
       "</style>\n",
       "<table border=\"1\" class=\"dataframe\">\n",
       "  <thead>\n",
       "    <tr style=\"text-align: right;\">\n",
       "      <th></th>\n",
       "      <th>0</th>\n",
       "      <th>1</th>\n",
       "      <th>2</th>\n",
       "      <th>3</th>\n",
       "      <th>4</th>\n",
       "      <th>5</th>\n",
       "      <th>6</th>\n",
       "      <th>7</th>\n",
       "      <th>8</th>\n",
       "      <th>9</th>\n",
       "      <th>...</th>\n",
       "      <th>112</th>\n",
       "      <th>113</th>\n",
       "      <th>114</th>\n",
       "      <th>115</th>\n",
       "      <th>116</th>\n",
       "      <th>117</th>\n",
       "      <th>118</th>\n",
       "      <th>119</th>\n",
       "      <th>120</th>\n",
       "      <th>121</th>\n",
       "    </tr>\n",
       "  </thead>\n",
       "  <tbody>\n",
       "    <tr>\n",
       "      <th>0</th>\n",
       "      <td>69769</td>\n",
       "      <td>-946</td>\n",
       "      <td>0.1613</td>\n",
       "      <td>0.7960</td>\n",
       "      <td>Panl</td>\n",
       "      <td>N</td>\n",
       "      <td>Bus2</td>\n",
       "      <td>0.0742</td>\n",
       "      <td>0</td>\n",
       "      <td>2</td>\n",
       "      <td>...</td>\n",
       "      <td>1.0</td>\n",
       "      <td>-4670</td>\n",
       "      <td>0.9851</td>\n",
       "      <td>0.0</td>\n",
       "      <td>0</td>\n",
       "      <td>Mard</td>\n",
       "      <td>0.0</td>\n",
       "      <td>0.3333</td>\n",
       "      <td>0</td>\n",
       "      <td>0</td>\n",
       "    </tr>\n",
       "    <tr>\n",
       "      <th>1</th>\n",
       "      <td>236977</td>\n",
       "      <td>-92</td>\n",
       "      <td>NaN</td>\n",
       "      <td>NaN</td>\n",
       "      <td>NaN</td>\n",
       "      <td>Y</td>\n",
       "      <td>Othr</td>\n",
       "      <td>NaN</td>\n",
       "      <td>0</td>\n",
       "      <td>3</td>\n",
       "      <td>...</td>\n",
       "      <td>NaN</td>\n",
       "      <td>-1994</td>\n",
       "      <td>NaN</td>\n",
       "      <td>NaN</td>\n",
       "      <td>0</td>\n",
       "      <td>Mard</td>\n",
       "      <td>0.0</td>\n",
       "      <td>NaN</td>\n",
       "      <td>0</td>\n",
       "      <td>0</td>\n",
       "    </tr>\n",
       "    <tr>\n",
       "      <th>2</th>\n",
       "      <td>168821</td>\n",
       "      <td>-1646</td>\n",
       "      <td>0.1124</td>\n",
       "      <td>0.8504</td>\n",
       "      <td>Panl</td>\n",
       "      <td>N</td>\n",
       "      <td>Bus3</td>\n",
       "      <td>0.0387</td>\n",
       "      <td>0</td>\n",
       "      <td>2</td>\n",
       "      <td>...</td>\n",
       "      <td>2.0</td>\n",
       "      <td>-2842</td>\n",
       "      <td>0.9891</td>\n",
       "      <td>0.0</td>\n",
       "      <td>0</td>\n",
       "      <td>Sind</td>\n",
       "      <td>0.0</td>\n",
       "      <td>0.3750</td>\n",
       "      <td>0</td>\n",
       "      <td>1</td>\n",
       "    </tr>\n",
       "    <tr>\n",
       "      <th>3</th>\n",
       "      <td>94708</td>\n",
       "      <td>-1651</td>\n",
       "      <td>0.0263</td>\n",
       "      <td>NaN</td>\n",
       "      <td>Blok</td>\n",
       "      <td>N</td>\n",
       "      <td>Bus3</td>\n",
       "      <td>NaN</td>\n",
       "      <td>0</td>\n",
       "      <td>2</td>\n",
       "      <td>...</td>\n",
       "      <td>4.0</td>\n",
       "      <td>-1345</td>\n",
       "      <td>0.9682</td>\n",
       "      <td>0.0</td>\n",
       "      <td>0</td>\n",
       "      <td>Sind</td>\n",
       "      <td>0.0</td>\n",
       "      <td>0.0417</td>\n",
       "      <td>0</td>\n",
       "      <td>1</td>\n",
       "    </tr>\n",
       "    <tr>\n",
       "      <th>4</th>\n",
       "      <td>84556</td>\n",
       "      <td>-977</td>\n",
       "      <td>NaN</td>\n",
       "      <td>NaN</td>\n",
       "      <td>NaN</td>\n",
       "      <td>N</td>\n",
       "      <td>Rest</td>\n",
       "      <td>NaN</td>\n",
       "      <td>0</td>\n",
       "      <td>2</td>\n",
       "      <td>...</td>\n",
       "      <td>NaN</td>\n",
       "      <td>-852</td>\n",
       "      <td>NaN</td>\n",
       "      <td>NaN</td>\n",
       "      <td>0</td>\n",
       "      <td>Sind</td>\n",
       "      <td>0.0</td>\n",
       "      <td>NaN</td>\n",
       "      <td>0</td>\n",
       "      <td>0</td>\n",
       "    </tr>\n",
       "  </tbody>\n",
       "</table>\n",
       "<p>5 rows × 122 columns</p>\n",
       "</div>"
      ],
      "text/plain": [
       "      0     1       2       3     4   5     6       7    8    9    ...  112  \\\n",
       "0   69769  -946  0.1613  0.7960  Panl   N  Bus2  0.0742    0    2  ...  1.0   \n",
       "1  236977   -92     NaN     NaN   NaN   Y  Othr     NaN    0    3  ...  NaN   \n",
       "2  168821 -1646  0.1124  0.8504  Panl   N  Bus3  0.0387    0    2  ...  2.0   \n",
       "3   94708 -1651  0.0263     NaN  Blok   N  Bus3     NaN    0    2  ...  4.0   \n",
       "4   84556  -977     NaN     NaN   NaN   N  Rest     NaN    0    2  ...  NaN   \n",
       "\n",
       "    113     114  115 116   117  118     119  120  121  \n",
       "0 -4670  0.9851  0.0   0  Mard  0.0  0.3333    0    0  \n",
       "1 -1994     NaN  NaN   0  Mard  0.0     NaN    0    0  \n",
       "2 -2842  0.9891  0.0   0  Sind  0.0  0.3750    0    1  \n",
       "3 -1345  0.9682  0.0   0  Sind  0.0  0.0417    0    1  \n",
       "4  -852     NaN  NaN   0  Sind  0.0     NaN    0    0  \n",
       "\n",
       "[5 rows x 122 columns]"
      ]
     },
     "execution_count": 205,
     "metadata": {},
     "output_type": "execute_result"
    }
   ],
   "source": [
    "data.head() # Checking the data after reading it "
   ]
  },
  {
   "cell_type": "code",
   "execution_count": 206,
   "metadata": {},
   "outputs": [],
   "source": [
    "columnnames = {} #Creating an empty dictionary to store column names \n",
    "count = 0 # Creating a counter variable to store the number of the columns\n",
    "for i in data.columns: # Creating for loop to iterate  over dataframe \n",
    "  count += 1 # Counting each step and storing them in the count variable \n",
    "  columnnames[i] = f\"Column{count}\" # Adding \"Column\" and count value together  to have \"Column1\" shape and storing each of them in columnnames dictionary.\n",
    "\n",
    "data.rename(columns = columnnames ,inplace = True) # Renaming columns with the dictionary that we filled new column names "
   ]
  },
  {
   "cell_type": "code",
   "execution_count": 207,
   "metadata": {},
   "outputs": [
    {
     "name": "stdout",
     "output_type": "stream",
     "text": [
      "106\n"
     ]
    }
   ],
   "source": [
    "lst = []\n",
    "for i in data.columns:\n",
    "    if data[i].dtypes != \"object\":\n",
    "        lst.append(i)\n",
    "print(len(lst))\n",
    "##There are 106 columns that are not categorical"
   ]
  },
  {
   "cell_type": "code",
   "execution_count": 208,
   "metadata": {},
   "outputs": [
    {
     "data": {
      "text/html": [
       "<div>\n",
       "<style scoped>\n",
       "    .dataframe tbody tr th:only-of-type {\n",
       "        vertical-align: middle;\n",
       "    }\n",
       "\n",
       "    .dataframe tbody tr th {\n",
       "        vertical-align: top;\n",
       "    }\n",
       "\n",
       "    .dataframe thead th {\n",
       "        text-align: right;\n",
       "    }\n",
       "</style>\n",
       "<table border=\"1\" class=\"dataframe\">\n",
       "  <thead>\n",
       "    <tr style=\"text-align: right;\">\n",
       "      <th></th>\n",
       "      <th>Column1</th>\n",
       "      <th>Column2</th>\n",
       "      <th>Column3</th>\n",
       "      <th>Column4</th>\n",
       "      <th>Column5</th>\n",
       "      <th>Column6</th>\n",
       "      <th>Column7</th>\n",
       "      <th>Column8</th>\n",
       "      <th>Column9</th>\n",
       "      <th>Column10</th>\n",
       "      <th>...</th>\n",
       "      <th>Column113</th>\n",
       "      <th>Column114</th>\n",
       "      <th>Column115</th>\n",
       "      <th>Column116</th>\n",
       "      <th>Column117</th>\n",
       "      <th>Column118</th>\n",
       "      <th>Column119</th>\n",
       "      <th>Column120</th>\n",
       "      <th>Column121</th>\n",
       "      <th>Column122</th>\n",
       "    </tr>\n",
       "  </thead>\n",
       "  <tbody>\n",
       "    <tr>\n",
       "      <th>0</th>\n",
       "      <td>69769</td>\n",
       "      <td>-946</td>\n",
       "      <td>0.1613</td>\n",
       "      <td>0.7960</td>\n",
       "      <td>Panl</td>\n",
       "      <td>N</td>\n",
       "      <td>Bus2</td>\n",
       "      <td>0.0742</td>\n",
       "      <td>0</td>\n",
       "      <td>2</td>\n",
       "      <td>...</td>\n",
       "      <td>1.0</td>\n",
       "      <td>-4670</td>\n",
       "      <td>0.9851</td>\n",
       "      <td>0.0</td>\n",
       "      <td>0</td>\n",
       "      <td>Mard</td>\n",
       "      <td>0.0</td>\n",
       "      <td>0.3333</td>\n",
       "      <td>0</td>\n",
       "      <td>0</td>\n",
       "    </tr>\n",
       "    <tr>\n",
       "      <th>1</th>\n",
       "      <td>236977</td>\n",
       "      <td>-92</td>\n",
       "      <td>NaN</td>\n",
       "      <td>NaN</td>\n",
       "      <td>NaN</td>\n",
       "      <td>Y</td>\n",
       "      <td>Othr</td>\n",
       "      <td>NaN</td>\n",
       "      <td>0</td>\n",
       "      <td>3</td>\n",
       "      <td>...</td>\n",
       "      <td>NaN</td>\n",
       "      <td>-1994</td>\n",
       "      <td>NaN</td>\n",
       "      <td>NaN</td>\n",
       "      <td>0</td>\n",
       "      <td>Mard</td>\n",
       "      <td>0.0</td>\n",
       "      <td>NaN</td>\n",
       "      <td>0</td>\n",
       "      <td>0</td>\n",
       "    </tr>\n",
       "    <tr>\n",
       "      <th>2</th>\n",
       "      <td>168821</td>\n",
       "      <td>-1646</td>\n",
       "      <td>0.1124</td>\n",
       "      <td>0.8504</td>\n",
       "      <td>Panl</td>\n",
       "      <td>N</td>\n",
       "      <td>Bus3</td>\n",
       "      <td>0.0387</td>\n",
       "      <td>0</td>\n",
       "      <td>2</td>\n",
       "      <td>...</td>\n",
       "      <td>2.0</td>\n",
       "      <td>-2842</td>\n",
       "      <td>0.9891</td>\n",
       "      <td>0.0</td>\n",
       "      <td>0</td>\n",
       "      <td>Sind</td>\n",
       "      <td>0.0</td>\n",
       "      <td>0.3750</td>\n",
       "      <td>0</td>\n",
       "      <td>1</td>\n",
       "    </tr>\n",
       "    <tr>\n",
       "      <th>3</th>\n",
       "      <td>94708</td>\n",
       "      <td>-1651</td>\n",
       "      <td>0.0263</td>\n",
       "      <td>NaN</td>\n",
       "      <td>Blok</td>\n",
       "      <td>N</td>\n",
       "      <td>Bus3</td>\n",
       "      <td>NaN</td>\n",
       "      <td>0</td>\n",
       "      <td>2</td>\n",
       "      <td>...</td>\n",
       "      <td>4.0</td>\n",
       "      <td>-1345</td>\n",
       "      <td>0.9682</td>\n",
       "      <td>0.0</td>\n",
       "      <td>0</td>\n",
       "      <td>Sind</td>\n",
       "      <td>0.0</td>\n",
       "      <td>0.0417</td>\n",
       "      <td>0</td>\n",
       "      <td>1</td>\n",
       "    </tr>\n",
       "    <tr>\n",
       "      <th>4</th>\n",
       "      <td>84556</td>\n",
       "      <td>-977</td>\n",
       "      <td>NaN</td>\n",
       "      <td>NaN</td>\n",
       "      <td>NaN</td>\n",
       "      <td>N</td>\n",
       "      <td>Rest</td>\n",
       "      <td>NaN</td>\n",
       "      <td>0</td>\n",
       "      <td>2</td>\n",
       "      <td>...</td>\n",
       "      <td>NaN</td>\n",
       "      <td>-852</td>\n",
       "      <td>NaN</td>\n",
       "      <td>NaN</td>\n",
       "      <td>0</td>\n",
       "      <td>Sind</td>\n",
       "      <td>0.0</td>\n",
       "      <td>NaN</td>\n",
       "      <td>0</td>\n",
       "      <td>0</td>\n",
       "    </tr>\n",
       "  </tbody>\n",
       "</table>\n",
       "<p>5 rows × 122 columns</p>\n",
       "</div>"
      ],
      "text/plain": [
       "   Column1  Column2  Column3  Column4 Column5 Column6 Column7  Column8  \\\n",
       "0    69769     -946   0.1613   0.7960    Panl       N    Bus2   0.0742   \n",
       "1   236977      -92      NaN      NaN     NaN       Y    Othr      NaN   \n",
       "2   168821    -1646   0.1124   0.8504    Panl       N    Bus3   0.0387   \n",
       "3    94708    -1651   0.0263      NaN    Blok       N    Bus3      NaN   \n",
       "4    84556     -977      NaN      NaN     NaN       N    Rest      NaN   \n",
       "\n",
       "   Column9  Column10  ...  Column113  Column114  Column115  Column116  \\\n",
       "0        0         2  ...        1.0      -4670     0.9851        0.0   \n",
       "1        0         3  ...        NaN      -1994        NaN        NaN   \n",
       "2        0         2  ...        2.0      -2842     0.9891        0.0   \n",
       "3        0         2  ...        4.0      -1345     0.9682        0.0   \n",
       "4        0         2  ...        NaN       -852        NaN        NaN   \n",
       "\n",
       "  Column117  Column118 Column119  Column120  Column121  Column122  \n",
       "0         0       Mard       0.0     0.3333          0          0  \n",
       "1         0       Mard       0.0        NaN          0          0  \n",
       "2         0       Sind       0.0     0.3750          0          1  \n",
       "3         0       Sind       0.0     0.0417          0          1  \n",
       "4         0       Sind       0.0        NaN          0          0  \n",
       "\n",
       "[5 rows x 122 columns]"
      ]
     },
     "execution_count": 208,
     "metadata": {},
     "output_type": "execute_result"
    }
   ],
   "source": [
    "data.head()  #Cheking data after adding names to the columns "
   ]
  },
  {
   "cell_type": "code",
   "execution_count": 209,
   "metadata": {},
   "outputs": [],
   "source": [
    "fdata=pd.DataFrame(data.iloc[:, :-1]) # Taking all the columns except the last one which is the Label column in order to save the Label column from pre-processing operations\n",
    "Ldata=pd.DataFrame(data.iloc[:,-1]) # Saving Label Column in Ldata\n"
   ]
  },
  {
   "cell_type": "code",
   "execution_count": 210,
   "metadata": {},
   "outputs": [
    {
     "data": {
      "text/plain": [
       "Column1           0\n",
       "Column2           0\n",
       "Column3      143829\n",
       "Column4      163543\n",
       "Column5      124975\n",
       "              ...  \n",
       "Column117         0\n",
       "Column118         0\n",
       "Column119       811\n",
       "Column120    122297\n",
       "Column121         0\n",
       "Length: 121, dtype: int64"
      ]
     },
     "execution_count": 210,
     "metadata": {},
     "output_type": "execute_result"
    }
   ],
   "source": [
    "fdata.isna().sum() # Checking  the number of the NaN/Null/Empty values in columns of fdata. "
   ]
  },
  {
   "cell_type": "code",
   "execution_count": 211,
   "metadata": {},
   "outputs": [
    {
     "data": {
      "text/plain": [
       "Column17       1029\n",
       "Column113     33244\n",
       "Column13      33244\n",
       "Column91      33244\n",
       "Column46      33244\n",
       "Column84      33244\n",
       "Column35      33244\n",
       "Column59      48805\n",
       "Column45      76940\n",
       "Column15     116581\n",
       "Column90     118707\n",
       "Column81     119949\n",
       "Column115    119949\n",
       "Column110    119949\n",
       "Column85     122297\n",
       "Column120    122297\n",
       "Column40     122297\n",
       "Column108    123328\n",
       "Column11     123462\n",
       "Column50     123462\n",
       "Column37     123462\n",
       "Column79     123775\n",
       "Column49     123775\n",
       "Column75     123775\n",
       "Column22     124732\n",
       "Column33     124732\n",
       "Column88     124732\n",
       "Column5      124975\n",
       "Column39     131017\n",
       "Column97     131017\n",
       "Column52     131017\n",
       "Column69     135624\n",
       "Column116    135624\n",
       "Column92     135624\n",
       "Column87     138595\n",
       "Column96     143829\n",
       "Column3      143829\n",
       "Column60     143829\n",
       "Column80     145985\n",
       "Column12     145985\n",
       "Column55     145985\n",
       "Column103    162418\n",
       "Column4      163543\n",
       "Column93     163543\n",
       "Column83     163543\n",
       "Column62     166921\n",
       "Column23     166921\n",
       "Column102    166921\n",
       "Column112    168119\n",
       "Column61     168119\n",
       "Column78     168119\n",
       "Column111    168215\n",
       "Column57     170729\n",
       "Column44     170729\n",
       "Column19     170729\n",
       "Column18     171811\n",
       "Column89     171811\n",
       "Column8      171811\n",
       "dtype: int64"
      ]
     },
     "execution_count": 211,
     "metadata": {},
     "output_type": "execute_result"
    }
   ],
   "source": [
    "numberof_nulls = fdata.isnull().sum() #Storing the list of Nan values of each column in the numberof_nulls variable\n",
    "numberof_nulls = numberof_nulls[numberof_nulls > 1028] # Puting a threshold for printing output since we have many we want to see the ones above certain limit, limit here is  1028 because after printing the whole list we saw that after Column17 which has 1029 there is a big increase so we wanted to see that increase    \n",
    "Columnames_sorted = numberof_nulls.sort_values(ascending=True) # Sorting the list after we put our threshold to watch the increase\n",
    "Columnames_sorted # Printing the sorted list "
   ]
  },
  {
   "cell_type": "code",
   "execution_count": 212,
   "metadata": {},
   "outputs": [],
   "source": [
    "#I chose to delete the columns completely if they have more than 1% missing values\n",
    "for c,v in fdata.isnull().sum().items():\n",
    "    if v > (fdata.shape[0]*(35/100)):\n",
    "        fdata = fdata.drop(columns=c, axis = 1)"
   ]
  },
  {
   "cell_type": "code",
   "execution_count": 213,
   "metadata": {},
   "outputs": [
    {
     "data": {
      "text/plain": [
       "330247"
      ]
     },
     "execution_count": 213,
     "metadata": {},
     "output_type": "execute_result"
    }
   ],
   "source": [
    "fdata.isnull().sum().sum()"
   ]
  },
  {
   "cell_type": "code",
   "execution_count": 214,
   "metadata": {},
   "outputs": [
    {
     "name": "stdout",
     "output_type": "stream",
     "text": [
      "[] ['Column26', 'Column34', 'Column43', 'Column59', 'Column64', 'Column65', 'Column71', 'Column86', 'Column105'] ['Column1', 'Column2', 'Column9', 'Column10', 'Column13', 'Column14', 'Column16', 'Column20', 'Column21', 'Column24', 'Column25', 'Column27', 'Column28', 'Column29', 'Column30', 'Column35', 'Column36', 'Column38', 'Column41', 'Column42', 'Column46', 'Column47', 'Column51', 'Column53', 'Column54', 'Column56', 'Column58', 'Column63', 'Column66', 'Column67', 'Column72', 'Column73', 'Column74', 'Column76', 'Column77', 'Column82', 'Column84', 'Column91', 'Column95', 'Column98', 'Column99', 'Column100', 'Column101', 'Column106', 'Column107', 'Column109', 'Column113', 'Column114', 'Column117', 'Column119', 'Column121']\n"
     ]
    }
   ],
   "source": [
    "#Here i check whether the numeric columns are normally distributed, right or left skewed\n",
    "#and by that knowledge I'll fill the missing values with mean or median\n",
    "norm = []\n",
    "leftskew = []\n",
    "rightskew = []\n",
    "for i in fdata:\n",
    "    if fdata[i].dtypes == \"float64\" or fdata[i].dtypes == \"int64\":\n",
    "        if fdata[i].mean() == fdata[i].median():\n",
    "            norm.append(i)\n",
    "        elif fdata[i].mean() < fdata[i].median():\n",
    "           leftskew.append(i)\n",
    "        elif fdata[i].mean() > fdata[i].median():\n",
    "            rightskew.append(i)\n",
    "\n",
    "print(norm, leftskew, rightskew)"
   ]
  },
  {
   "cell_type": "code",
   "execution_count": 215,
   "metadata": {},
   "outputs": [],
   "source": [
    "skewed = leftskew + rightskew #i merge them to work on them easier"
   ]
  },
  {
   "cell_type": "code",
   "execution_count": 216,
   "metadata": {},
   "outputs": [
    {
     "name": "stdout",
     "output_type": "stream",
     "text": [
      "330247\n",
      "77969\n"
     ]
    }
   ],
   "source": [
    "print(fdata.isnull().sum().sum())\n",
    "\n",
    "imputer_median = SimpleImputer(strategy=\"median\") #because there are no normally distributed data in my dataset i'll use median as filler for numeric values\n",
    "imputer_mode = SimpleImputer(strategy=\"most_frequent\") #for categorical values i'll use mode\n",
    "\n",
    "fdata[skewed] = imputer_median.fit_transform(fdata[skewed]) #here i fit and transform the data for the columns in list skewed\n",
    "\n",
    "print(fdata.isnull().sum().sum())\n"
   ]
  },
  {
   "cell_type": "code",
   "execution_count": 217,
   "metadata": {},
   "outputs": [
    {
     "name": "stdout",
     "output_type": "stream",
     "text": [
      "0\n"
     ]
    }
   ],
   "source": [
    "for i in fdata.columns:\n",
    "    if fdata[i].dtypes == \"object\":\n",
    "            fdata[i] = imputer_mode.fit_transform(fdata[[i]]) #here i fit and transfrom the data for columns that are object\n",
    "\n",
    "print(fdata.isnull().sum().sum())"
   ]
  },
  {
   "cell_type": "code",
   "execution_count": 218,
   "metadata": {},
   "outputs": [],
   "source": [
    "def splitdf(df):\n",
    "    \"\"\"\n",
    "     This function takes dataframe as parameter and itterates over its columns,\n",
    "     checks column types and according to the types adds them to the new data frames\n",
    "     ---Parameters---\n",
    "     df: Dataframe which is going to be seperated according to its column types \n",
    "\n",
    "     ---Returns---\n",
    "     numdf: 'int64', 'float64' columns will be added to this data frame \n",
    "     objdf: Other columns which is not 'int64', 'float64' will be added to this data frame\n",
    "     \n",
    "     \"\"\"\n",
    "    objdf=pd.DataFrame() # Creating new dataframes to store columns\n",
    "    numdf=pd.DataFrame()\n",
    "    for columns in df.columns: # Itterating over columns\n",
    "          if df[columns].dtype in ['int64', 'float64']: #Cheking datatype if they are 'int64', 'float64' \n",
    "               numdf[columns]=df[columns]  #Adds them to the numdf dataframe\n",
    "          else:  # If not \n",
    "               objdf[columns]=df[columns] # Adds them to the objdf \n",
    "    return   numdf,objdf # Returns both new dataframes with adjusted columns  based on type"
   ]
  },
  {
   "cell_type": "code",
   "execution_count": 219,
   "metadata": {},
   "outputs": [],
   "source": [
    "numdf,objdf=splitdf(fdata) # Using splitdf funtion on fdata to get two new dataframes which has only numeric and object type datas "
   ]
  },
  {
   "cell_type": "code",
   "execution_count": 220,
   "metadata": {},
   "outputs": [
    {
     "data": {
      "text/html": [
       "<div>\n",
       "<style scoped>\n",
       "    .dataframe tbody tr th:only-of-type {\n",
       "        vertical-align: middle;\n",
       "    }\n",
       "\n",
       "    .dataframe tbody tr th {\n",
       "        vertical-align: top;\n",
       "    }\n",
       "\n",
       "    .dataframe thead th {\n",
       "        text-align: right;\n",
       "    }\n",
       "</style>\n",
       "<table border=\"1\" class=\"dataframe\">\n",
       "  <thead>\n",
       "    <tr style=\"text-align: right;\">\n",
       "      <th></th>\n",
       "      <th>Column1</th>\n",
       "      <th>Column2</th>\n",
       "      <th>Column9</th>\n",
       "      <th>Column10</th>\n",
       "      <th>Column13</th>\n",
       "      <th>Column14</th>\n",
       "      <th>Column16</th>\n",
       "      <th>Column20</th>\n",
       "      <th>Column21</th>\n",
       "      <th>Column24</th>\n",
       "      <th>...</th>\n",
       "      <th>Column101</th>\n",
       "      <th>Column105</th>\n",
       "      <th>Column106</th>\n",
       "      <th>Column107</th>\n",
       "      <th>Column109</th>\n",
       "      <th>Column113</th>\n",
       "      <th>Column114</th>\n",
       "      <th>Column117</th>\n",
       "      <th>Column119</th>\n",
       "      <th>Column121</th>\n",
       "    </tr>\n",
       "  </thead>\n",
       "  <tbody>\n",
       "    <tr>\n",
       "      <th>0</th>\n",
       "      <td>69769.0</td>\n",
       "      <td>-946.0</td>\n",
       "      <td>0.0</td>\n",
       "      <td>2.0</td>\n",
       "      <td>0.0</td>\n",
       "      <td>180000.0</td>\n",
       "      <td>0.0</td>\n",
       "      <td>0.0</td>\n",
       "      <td>0.0</td>\n",
       "      <td>0.0</td>\n",
       "      <td>...</td>\n",
       "      <td>0.0</td>\n",
       "      <td>1.0</td>\n",
       "      <td>0.0</td>\n",
       "      <td>0.0</td>\n",
       "      <td>0.0</td>\n",
       "      <td>1.0</td>\n",
       "      <td>-4670.0</td>\n",
       "      <td>0.0</td>\n",
       "      <td>0.0</td>\n",
       "      <td>0.0</td>\n",
       "    </tr>\n",
       "    <tr>\n",
       "      <th>1</th>\n",
       "      <td>236977.0</td>\n",
       "      <td>-92.0</td>\n",
       "      <td>0.0</td>\n",
       "      <td>3.0</td>\n",
       "      <td>0.0</td>\n",
       "      <td>135000.0</td>\n",
       "      <td>0.0</td>\n",
       "      <td>0.0</td>\n",
       "      <td>0.0</td>\n",
       "      <td>0.0</td>\n",
       "      <td>...</td>\n",
       "      <td>0.0</td>\n",
       "      <td>1.0</td>\n",
       "      <td>0.0</td>\n",
       "      <td>0.0</td>\n",
       "      <td>0.0</td>\n",
       "      <td>1.0</td>\n",
       "      <td>-1994.0</td>\n",
       "      <td>0.0</td>\n",
       "      <td>0.0</td>\n",
       "      <td>0.0</td>\n",
       "    </tr>\n",
       "    <tr>\n",
       "      <th>2</th>\n",
       "      <td>168821.0</td>\n",
       "      <td>-1646.0</td>\n",
       "      <td>0.0</td>\n",
       "      <td>2.0</td>\n",
       "      <td>0.0</td>\n",
       "      <td>553500.0</td>\n",
       "      <td>0.0</td>\n",
       "      <td>0.0</td>\n",
       "      <td>1.0</td>\n",
       "      <td>0.0</td>\n",
       "      <td>...</td>\n",
       "      <td>0.0</td>\n",
       "      <td>1.0</td>\n",
       "      <td>0.0</td>\n",
       "      <td>0.0</td>\n",
       "      <td>0.0</td>\n",
       "      <td>2.0</td>\n",
       "      <td>-2842.0</td>\n",
       "      <td>0.0</td>\n",
       "      <td>0.0</td>\n",
       "      <td>0.0</td>\n",
       "    </tr>\n",
       "    <tr>\n",
       "      <th>3</th>\n",
       "      <td>94708.0</td>\n",
       "      <td>-1651.0</td>\n",
       "      <td>0.0</td>\n",
       "      <td>2.0</td>\n",
       "      <td>0.0</td>\n",
       "      <td>391500.0</td>\n",
       "      <td>0.0</td>\n",
       "      <td>0.0</td>\n",
       "      <td>1.0</td>\n",
       "      <td>0.0</td>\n",
       "      <td>...</td>\n",
       "      <td>0.0</td>\n",
       "      <td>1.0</td>\n",
       "      <td>0.0</td>\n",
       "      <td>0.0</td>\n",
       "      <td>0.0</td>\n",
       "      <td>4.0</td>\n",
       "      <td>-1345.0</td>\n",
       "      <td>0.0</td>\n",
       "      <td>0.0</td>\n",
       "      <td>0.0</td>\n",
       "    </tr>\n",
       "    <tr>\n",
       "      <th>4</th>\n",
       "      <td>84556.0</td>\n",
       "      <td>-977.0</td>\n",
       "      <td>0.0</td>\n",
       "      <td>2.0</td>\n",
       "      <td>0.0</td>\n",
       "      <td>225000.0</td>\n",
       "      <td>0.0</td>\n",
       "      <td>0.0</td>\n",
       "      <td>0.0</td>\n",
       "      <td>0.0</td>\n",
       "      <td>...</td>\n",
       "      <td>0.0</td>\n",
       "      <td>1.0</td>\n",
       "      <td>0.0</td>\n",
       "      <td>0.0</td>\n",
       "      <td>0.0</td>\n",
       "      <td>1.0</td>\n",
       "      <td>-852.0</td>\n",
       "      <td>0.0</td>\n",
       "      <td>0.0</td>\n",
       "      <td>0.0</td>\n",
       "    </tr>\n",
       "  </tbody>\n",
       "</table>\n",
       "<p>5 rows × 60 columns</p>\n",
       "</div>"
      ],
      "text/plain": [
       "    Column1  Column2  Column9  Column10  Column13  Column14  Column16  \\\n",
       "0   69769.0   -946.0      0.0       2.0       0.0  180000.0       0.0   \n",
       "1  236977.0    -92.0      0.0       3.0       0.0  135000.0       0.0   \n",
       "2  168821.0  -1646.0      0.0       2.0       0.0  553500.0       0.0   \n",
       "3   94708.0  -1651.0      0.0       2.0       0.0  391500.0       0.0   \n",
       "4   84556.0   -977.0      0.0       2.0       0.0  225000.0       0.0   \n",
       "\n",
       "   Column20  Column21  Column24  ...  Column101  Column105  Column106  \\\n",
       "0       0.0       0.0       0.0  ...        0.0        1.0        0.0   \n",
       "1       0.0       0.0       0.0  ...        0.0        1.0        0.0   \n",
       "2       0.0       1.0       0.0  ...        0.0        1.0        0.0   \n",
       "3       0.0       1.0       0.0  ...        0.0        1.0        0.0   \n",
       "4       0.0       0.0       0.0  ...        0.0        1.0        0.0   \n",
       "\n",
       "   Column107  Column109  Column113  Column114  Column117  Column119  Column121  \n",
       "0        0.0        0.0        1.0    -4670.0        0.0        0.0        0.0  \n",
       "1        0.0        0.0        1.0    -1994.0        0.0        0.0        0.0  \n",
       "2        0.0        0.0        2.0    -2842.0        0.0        0.0        0.0  \n",
       "3        0.0        0.0        4.0    -1345.0        0.0        0.0        0.0  \n",
       "4        0.0        0.0        1.0     -852.0        0.0        0.0        0.0  \n",
       "\n",
       "[5 rows x 60 columns]"
      ]
     },
     "execution_count": 220,
     "metadata": {},
     "output_type": "execute_result"
    }
   ],
   "source": [
    "numdf.head() # Cheking numf to see the result of our functions "
   ]
  },
  {
   "cell_type": "code",
   "execution_count": 221,
   "metadata": {},
   "outputs": [
    {
     "data": {
      "text/html": [
       "<div>\n",
       "<style scoped>\n",
       "    .dataframe tbody tr th:only-of-type {\n",
       "        vertical-align: middle;\n",
       "    }\n",
       "\n",
       "    .dataframe tbody tr th {\n",
       "        vertical-align: top;\n",
       "    }\n",
       "\n",
       "    .dataframe thead th {\n",
       "        text-align: right;\n",
       "    }\n",
       "</style>\n",
       "<table border=\"1\" class=\"dataframe\">\n",
       "  <thead>\n",
       "    <tr style=\"text-align: right;\">\n",
       "      <th></th>\n",
       "      <th>Column6</th>\n",
       "      <th>Column7</th>\n",
       "      <th>Column17</th>\n",
       "      <th>Column31</th>\n",
       "      <th>Column32</th>\n",
       "      <th>Column45</th>\n",
       "      <th>Column48</th>\n",
       "      <th>Column68</th>\n",
       "      <th>Column70</th>\n",
       "      <th>Column94</th>\n",
       "      <th>Column104</th>\n",
       "      <th>Column118</th>\n",
       "    </tr>\n",
       "  </thead>\n",
       "  <tbody>\n",
       "    <tr>\n",
       "      <th>0</th>\n",
       "      <td>N</td>\n",
       "      <td>Bus2</td>\n",
       "      <td>Unad</td>\n",
       "      <td>Come</td>\n",
       "      <td>Hout</td>\n",
       "      <td>Labs</td>\n",
       "      <td>N</td>\n",
       "      <td>Hign</td>\n",
       "      <td>F</td>\n",
       "      <td>WEDY</td>\n",
       "      <td>Cass</td>\n",
       "      <td>Mard</td>\n",
       "    </tr>\n",
       "    <tr>\n",
       "      <th>1</th>\n",
       "      <td>Y</td>\n",
       "      <td>Othr</td>\n",
       "      <td>Unad</td>\n",
       "      <td>Come</td>\n",
       "      <td>Hout</td>\n",
       "      <td>Dris</td>\n",
       "      <td>Y</td>\n",
       "      <td>Secl</td>\n",
       "      <td>M</td>\n",
       "      <td>TUEY</td>\n",
       "      <td>Cass</td>\n",
       "      <td>Mard</td>\n",
       "    </tr>\n",
       "    <tr>\n",
       "      <th>2</th>\n",
       "      <td>N</td>\n",
       "      <td>Bus3</td>\n",
       "      <td>Spor</td>\n",
       "      <td>Worg</td>\n",
       "      <td>Hout</td>\n",
       "      <td>Labs</td>\n",
       "      <td>Y</td>\n",
       "      <td>Secl</td>\n",
       "      <td>M</td>\n",
       "      <td>TUEY</td>\n",
       "      <td>Cass</td>\n",
       "      <td>Sind</td>\n",
       "    </tr>\n",
       "    <tr>\n",
       "      <th>3</th>\n",
       "      <td>N</td>\n",
       "      <td>Bus3</td>\n",
       "      <td>Unad</td>\n",
       "      <td>Come</td>\n",
       "      <td>Hout</td>\n",
       "      <td>Labs</td>\n",
       "      <td>N</td>\n",
       "      <td>Secl</td>\n",
       "      <td>M</td>\n",
       "      <td>TUEY</td>\n",
       "      <td>Cass</td>\n",
       "      <td>Sind</td>\n",
       "    </tr>\n",
       "    <tr>\n",
       "      <th>4</th>\n",
       "      <td>N</td>\n",
       "      <td>Rest</td>\n",
       "      <td>Unad</td>\n",
       "      <td>Come</td>\n",
       "      <td>Hout</td>\n",
       "      <td>Accs</td>\n",
       "      <td>Y</td>\n",
       "      <td>Incr</td>\n",
       "      <td>F</td>\n",
       "      <td>MONY</td>\n",
       "      <td>Cass</td>\n",
       "      <td>Sind</td>\n",
       "    </tr>\n",
       "  </tbody>\n",
       "</table>\n",
       "</div>"
      ],
      "text/plain": [
       "  Column6 Column7 Column17 Column31 Column32 Column45 Column48 Column68  \\\n",
       "0       N    Bus2     Unad     Come     Hout     Labs        N     Hign   \n",
       "1       Y    Othr     Unad     Come     Hout     Dris        Y     Secl   \n",
       "2       N    Bus3     Spor     Worg     Hout     Labs        Y     Secl   \n",
       "3       N    Bus3     Unad     Come     Hout     Labs        N     Secl   \n",
       "4       N    Rest     Unad     Come     Hout     Accs        Y     Incr   \n",
       "\n",
       "  Column70 Column94 Column104 Column118  \n",
       "0        F     WEDY      Cass      Mard  \n",
       "1        M     TUEY      Cass      Mard  \n",
       "2        M     TUEY      Cass      Sind  \n",
       "3        M     TUEY      Cass      Sind  \n",
       "4        F     MONY      Cass      Sind  "
      ]
     },
     "execution_count": 221,
     "metadata": {},
     "output_type": "execute_result"
    }
   ],
   "source": [
    "objdf.head()   # Cheking objdf to see the result of our functions "
   ]
  },
  {
   "cell_type": "code",
   "execution_count": 222,
   "metadata": {},
   "outputs": [
    {
     "data": {
      "text/plain": [
       "Column122\n",
       "0            91.927092\n",
       "1             8.072908\n",
       "dtype: float64"
      ]
     },
     "execution_count": 222,
     "metadata": {},
     "output_type": "execute_result"
    }
   ],
   "source": [
    "counts=Ldata.value_counts(normalize=True) # Cheking the  unique  values of our label column to understand its distribution \n",
    "counts*100 # Multiplying  by 100 to get rid of zeros"
   ]
  },
  {
   "cell_type": "code",
   "execution_count": 223,
   "metadata": {},
   "outputs": [],
   "source": [
    "def cor(df, labeldf):\n",
    "    \"\"\"\n",
    "    This function takes two dataframes, \n",
    "    applies The Point-Biserial Correlation in order to find the realation between two dataframes,\n",
    "    stores correlation coefficient and p value in dictionary,\n",
    "    returns a dictionary with columns and thier correlation coefficient and p value\n",
    "    ---Parameters---\n",
    "    df: DataFrame for feature data \n",
    "    labeldf: DataFrame for Label/Target data \n",
    "    \n",
    "    ---Returns---\n",
    "    corr_dict: Dictionary that has column names and their correlation coefficient and p value\n",
    "\n",
    "\n",
    "    \"\"\"\n",
    "    corr_dict = {}  #Creating empty dictionay to use as storage\n",
    "    for column in df.columns: # itterating over Feature dataframe \n",
    "        corr_coeff, p_value = stats.pointbiserialr(labeldf.values.flatten(), df[column])  # Applying The Point-Biserial Correlation storing correlation coefficient and p-value from the operation, takes label with values.flatten() to make it 1-D array in order to iterate over it \n",
    "        corr_dict[column] = {'correlation_coefficient': corr_coeff, 'p_value': p_value} # Storing the correlation coefficient and p-value from operation in the dictionary with related column\n",
    "    return corr_dict # Returning the dictionary that filled with column's  correlation coefficient and p-value"
   ]
  },
  {
   "cell_type": "code",
   "execution_count": 224,
   "metadata": {},
   "outputs": [],
   "source": [
    "correlation_results = cor(numdf, Ldata) # Appliying our cor funtion to our feature and label data, storing it in correlation_results \n",
    " \n",
    "correlation_df = pd.DataFrame(correlation_results).T # Converting dictionary to dataframe and transposing it in order to switch rows and columns to have better visual  \n"
   ]
  },
  {
   "cell_type": "code",
   "execution_count": 225,
   "metadata": {},
   "outputs": [
    {
     "data": {
      "image/png": "[encoded data removed]",
      "text/plain": [
       "<Figure size 1000x1000 with 2 Axes>"
      ]
     },
     "metadata": {},
     "output_type": "display_data"
    }
   ],
   "source": [
    "heatmapcw(10,10,correlation_df) # Appliying our heatmapcw funciton to correlation_df "
   ]
  },
  {
   "cell_type": "code",
   "execution_count": null,
   "metadata": {},
   "outputs": [],
   "source": [
    "def chitest(feature, label):\n",
    "    \"\"\"\n",
    "    This funtion takes two dataframe,\n",
    "    applies Chi-square test of independence to find realetionship between catagorical data and binary label column.\n",
    "    Stores chi-statistic and p-value, returns a dataframe which has columns and their chi-statistic and p-value\n",
    "    \n",
    "    ---Parameters---\n",
    "    feature: Dataframe for feature data\n",
    "    label: Dataframe for label data\n",
    "\n",
    "    ---Returns---\n",
    "    chi_mat: Dataframe that has columns and their chi-statistic and p-value\n",
    "    \n",
    "    \"\"\"\n",
    "    chi_mat= pd.DataFrame(index=feature.columns, columns=[\"chi-stat\", \"p-val\"])  #Creating Dataframe with \"chi-stat\", \"p-val\" columns and indexing the dataframe according to feature dataframe\n",
    "    for column in feature.columns:  # Itterating over columns of feature dataframe \n",
    "        conting_table=pd.crosstab(label.values.flatten(), feature[column])  # Applying crosstab function to flattened label and feature columns, we flattened label in order to have 1-D array to make itterations, stored the operation in conting_table\n",
    "        chi2_stat, p_val, _, _ = chi2_contingency(conting_table)  # Applying chi2_contingency function and storing chi2_stat, p_val from the operation\n",
    "        chi_mat.loc[column,\"chi-stat\"] = chi2_stat  # Assining chi-stats to the related columns \n",
    "        chi_mat.loc[column,\"p-val\"] = p_val # Assining p-vals to rhe related columns \n",
    "    return chi_mat # Returning the Dataframe that has columns and their chi-statistic and p-value"
   ]
  },
  {
   "cell_type": "code",
   "execution_count": 227,
   "metadata": {},
   "outputs": [
    {
     "name": "stdout",
     "output_type": "stream",
     "text": [
      "              chi-stat     p-val\n",
      "Column6     108.639627       0.0\n",
      "Column7    1278.401181       0.0\n",
      "Column17     28.292501  0.000083\n",
      "Column31    953.272713       0.0\n",
      "Column32    340.962035       0.0\n",
      "Column45    981.977271       0.0\n",
      "Column48       8.27538  0.004019\n",
      "Column68    792.535618       0.0\n",
      "Column70    733.021563       0.0\n",
      "Column94     13.128499   0.04104\n",
      "Column104   232.071989       0.0\n",
      "Column118   438.593989       0.0\n"
     ]
    }
   ],
   "source": [
    "chi2_matrix = chitest(objdf, Ldata) # Using our function with our dataframes\n",
    "print(chi2_matrix)"
   ]
  },
  {
   "cell_type": "code",
   "execution_count": 228,
   "metadata": {},
   "outputs": [
    {
     "data": {
      "text/plain": [
       "['Column7', 'Column31', 'Column45', 'Column68', 'Column70', 'Column118']"
      ]
     },
     "execution_count": 228,
     "metadata": {},
     "output_type": "execute_result"
    }
   ],
   "source": [
    "lst = chi2_matrix[chi2_matrix[\"chi-stat\"] > 400].index.tolist()\n",
    "lst"
   ]
  },
  {
   "cell_type": "code",
   "execution_count": 229,
   "metadata": {},
   "outputs": [],
   "source": [
    "CorCat=pd.DataFrame() # Creating empty dataframe \n",
    "CorCat=objdf[lst]  # Filling empty dataframe with selected columns after the chi test, we stored them lst"
   ]
  },
  {
   "cell_type": "code",
   "execution_count": 230,
   "metadata": {},
   "outputs": [
    {
     "data": {
      "text/html": [
       "<div>\n",
       "<style scoped>\n",
       "    .dataframe tbody tr th:only-of-type {\n",
       "        vertical-align: middle;\n",
       "    }\n",
       "\n",
       "    .dataframe tbody tr th {\n",
       "        vertical-align: top;\n",
       "    }\n",
       "\n",
       "    .dataframe thead th {\n",
       "        text-align: right;\n",
       "    }\n",
       "</style>\n",
       "<table border=\"1\" class=\"dataframe\">\n",
       "  <thead>\n",
       "    <tr style=\"text-align: right;\">\n",
       "      <th></th>\n",
       "      <th>Column7</th>\n",
       "      <th>Column31</th>\n",
       "      <th>Column45</th>\n",
       "      <th>Column68</th>\n",
       "      <th>Column70</th>\n",
       "      <th>Column118</th>\n",
       "    </tr>\n",
       "  </thead>\n",
       "  <tbody>\n",
       "    <tr>\n",
       "      <th>0</th>\n",
       "      <td>Bus2</td>\n",
       "      <td>Come</td>\n",
       "      <td>Labs</td>\n",
       "      <td>Hign</td>\n",
       "      <td>F</td>\n",
       "      <td>Mard</td>\n",
       "    </tr>\n",
       "    <tr>\n",
       "      <th>1</th>\n",
       "      <td>Othr</td>\n",
       "      <td>Come</td>\n",
       "      <td>Dris</td>\n",
       "      <td>Secl</td>\n",
       "      <td>M</td>\n",
       "      <td>Mard</td>\n",
       "    </tr>\n",
       "    <tr>\n",
       "      <th>2</th>\n",
       "      <td>Bus3</td>\n",
       "      <td>Worg</td>\n",
       "      <td>Labs</td>\n",
       "      <td>Secl</td>\n",
       "      <td>M</td>\n",
       "      <td>Sind</td>\n",
       "    </tr>\n",
       "    <tr>\n",
       "      <th>3</th>\n",
       "      <td>Bus3</td>\n",
       "      <td>Come</td>\n",
       "      <td>Labs</td>\n",
       "      <td>Secl</td>\n",
       "      <td>M</td>\n",
       "      <td>Sind</td>\n",
       "    </tr>\n",
       "    <tr>\n",
       "      <th>4</th>\n",
       "      <td>Rest</td>\n",
       "      <td>Come</td>\n",
       "      <td>Accs</td>\n",
       "      <td>Incr</td>\n",
       "      <td>F</td>\n",
       "      <td>Sind</td>\n",
       "    </tr>\n",
       "  </tbody>\n",
       "</table>\n",
       "</div>"
      ],
      "text/plain": [
       "  Column7 Column31 Column45 Column68 Column70 Column118\n",
       "0    Bus2     Come     Labs     Hign        F      Mard\n",
       "1    Othr     Come     Dris     Secl        M      Mard\n",
       "2    Bus3     Worg     Labs     Secl        M      Sind\n",
       "3    Bus3     Come     Labs     Secl        M      Sind\n",
       "4    Rest     Come     Accs     Incr        F      Sind"
      ]
     },
     "execution_count": 230,
     "metadata": {},
     "output_type": "execute_result"
    }
   ],
   "source": [
    "CorCat.head() # Cheking CorCat"
   ]
  },
  {
   "cell_type": "code",
   "execution_count": 231,
   "metadata": {},
   "outputs": [],
   "source": [
    "encCorCat=pd.get_dummies(CorCat) # Encoding our catagorical columns "
   ]
  },
  {
   "cell_type": "code",
   "execution_count": 232,
   "metadata": {},
   "outputs": [
    {
     "data": {
      "text/html": [
       "<div>\n",
       "<style scoped>\n",
       "    .dataframe tbody tr th:only-of-type {\n",
       "        vertical-align: middle;\n",
       "    }\n",
       "\n",
       "    .dataframe tbody tr th {\n",
       "        vertical-align: top;\n",
       "    }\n",
       "\n",
       "    .dataframe thead th {\n",
       "        text-align: right;\n",
       "    }\n",
       "</style>\n",
       "<table border=\"1\" class=\"dataframe\">\n",
       "  <thead>\n",
       "    <tr style=\"text-align: right;\">\n",
       "      <th></th>\n",
       "      <th>Column7_Advg</th>\n",
       "      <th>Column7_Agre</th>\n",
       "      <th>Column7_Bank</th>\n",
       "      <th>Column7_Bus1</th>\n",
       "      <th>Column7_Bus2</th>\n",
       "      <th>Column7_Bus3</th>\n",
       "      <th>Column7_Cleg</th>\n",
       "      <th>Column7_Conn</th>\n",
       "      <th>Column7_Cule</th>\n",
       "      <th>Column7_Eley</th>\n",
       "      <th>...</th>\n",
       "      <th>Column68_Secl</th>\n",
       "      <th>Column70_F</th>\n",
       "      <th>Column70_M</th>\n",
       "      <th>Column70_XNA</th>\n",
       "      <th>Column118_Cive</th>\n",
       "      <th>Column118_Mard</th>\n",
       "      <th>Column118_Sepd</th>\n",
       "      <th>Column118_Sind</th>\n",
       "      <th>Column118_Unkn</th>\n",
       "      <th>Column118_Widw</th>\n",
       "    </tr>\n",
       "  </thead>\n",
       "  <tbody>\n",
       "    <tr>\n",
       "      <th>0</th>\n",
       "      <td>0</td>\n",
       "      <td>0</td>\n",
       "      <td>0</td>\n",
       "      <td>0</td>\n",
       "      <td>1</td>\n",
       "      <td>0</td>\n",
       "      <td>0</td>\n",
       "      <td>0</td>\n",
       "      <td>0</td>\n",
       "      <td>0</td>\n",
       "      <td>...</td>\n",
       "      <td>0</td>\n",
       "      <td>1</td>\n",
       "      <td>0</td>\n",
       "      <td>0</td>\n",
       "      <td>0</td>\n",
       "      <td>1</td>\n",
       "      <td>0</td>\n",
       "      <td>0</td>\n",
       "      <td>0</td>\n",
       "      <td>0</td>\n",
       "    </tr>\n",
       "    <tr>\n",
       "      <th>1</th>\n",
       "      <td>0</td>\n",
       "      <td>0</td>\n",
       "      <td>0</td>\n",
       "      <td>0</td>\n",
       "      <td>0</td>\n",
       "      <td>0</td>\n",
       "      <td>0</td>\n",
       "      <td>0</td>\n",
       "      <td>0</td>\n",
       "      <td>0</td>\n",
       "      <td>...</td>\n",
       "      <td>1</td>\n",
       "      <td>0</td>\n",
       "      <td>1</td>\n",
       "      <td>0</td>\n",
       "      <td>0</td>\n",
       "      <td>1</td>\n",
       "      <td>0</td>\n",
       "      <td>0</td>\n",
       "      <td>0</td>\n",
       "      <td>0</td>\n",
       "    </tr>\n",
       "    <tr>\n",
       "      <th>2</th>\n",
       "      <td>0</td>\n",
       "      <td>0</td>\n",
       "      <td>0</td>\n",
       "      <td>0</td>\n",
       "      <td>0</td>\n",
       "      <td>1</td>\n",
       "      <td>0</td>\n",
       "      <td>0</td>\n",
       "      <td>0</td>\n",
       "      <td>0</td>\n",
       "      <td>...</td>\n",
       "      <td>1</td>\n",
       "      <td>0</td>\n",
       "      <td>1</td>\n",
       "      <td>0</td>\n",
       "      <td>0</td>\n",
       "      <td>0</td>\n",
       "      <td>0</td>\n",
       "      <td>1</td>\n",
       "      <td>0</td>\n",
       "      <td>0</td>\n",
       "    </tr>\n",
       "    <tr>\n",
       "      <th>3</th>\n",
       "      <td>0</td>\n",
       "      <td>0</td>\n",
       "      <td>0</td>\n",
       "      <td>0</td>\n",
       "      <td>0</td>\n",
       "      <td>1</td>\n",
       "      <td>0</td>\n",
       "      <td>0</td>\n",
       "      <td>0</td>\n",
       "      <td>0</td>\n",
       "      <td>...</td>\n",
       "      <td>1</td>\n",
       "      <td>0</td>\n",
       "      <td>1</td>\n",
       "      <td>0</td>\n",
       "      <td>0</td>\n",
       "      <td>0</td>\n",
       "      <td>0</td>\n",
       "      <td>1</td>\n",
       "      <td>0</td>\n",
       "      <td>0</td>\n",
       "    </tr>\n",
       "    <tr>\n",
       "      <th>4</th>\n",
       "      <td>0</td>\n",
       "      <td>0</td>\n",
       "      <td>0</td>\n",
       "      <td>0</td>\n",
       "      <td>0</td>\n",
       "      <td>0</td>\n",
       "      <td>0</td>\n",
       "      <td>0</td>\n",
       "      <td>0</td>\n",
       "      <td>0</td>\n",
       "      <td>...</td>\n",
       "      <td>0</td>\n",
       "      <td>1</td>\n",
       "      <td>0</td>\n",
       "      <td>0</td>\n",
       "      <td>0</td>\n",
       "      <td>0</td>\n",
       "      <td>0</td>\n",
       "      <td>1</td>\n",
       "      <td>0</td>\n",
       "      <td>0</td>\n",
       "    </tr>\n",
       "  </tbody>\n",
       "</table>\n",
       "<p>5 rows × 91 columns</p>\n",
       "</div>"
      ],
      "text/plain": [
       "   Column7_Advg  Column7_Agre  Column7_Bank  Column7_Bus1  Column7_Bus2  \\\n",
       "0             0             0             0             0             1   \n",
       "1             0             0             0             0             0   \n",
       "2             0             0             0             0             0   \n",
       "3             0             0             0             0             0   \n",
       "4             0             0             0             0             0   \n",
       "\n",
       "   Column7_Bus3  Column7_Cleg  Column7_Conn  Column7_Cule  Column7_Eley  ...  \\\n",
       "0             0             0             0             0             0  ...   \n",
       "1             0             0             0             0             0  ...   \n",
       "2             1             0             0             0             0  ...   \n",
       "3             1             0             0             0             0  ...   \n",
       "4             0             0             0             0             0  ...   \n",
       "\n",
       "   Column68_Secl  Column70_F  Column70_M  Column70_XNA  Column118_Cive  \\\n",
       "0              0           1           0             0               0   \n",
       "1              1           0           1             0               0   \n",
       "2              1           0           1             0               0   \n",
       "3              1           0           1             0               0   \n",
       "4              0           1           0             0               0   \n",
       "\n",
       "   Column118_Mard  Column118_Sepd  Column118_Sind  Column118_Unkn  \\\n",
       "0               1               0               0               0   \n",
       "1               1               0               0               0   \n",
       "2               0               0               1               0   \n",
       "3               0               0               1               0   \n",
       "4               0               0               1               0   \n",
       "\n",
       "   Column118_Widw  \n",
       "0               0  \n",
       "1               0  \n",
       "2               0  \n",
       "3               0  \n",
       "4               0  \n",
       "\n",
       "[5 rows x 91 columns]"
      ]
     },
     "execution_count": 232,
     "metadata": {},
     "output_type": "execute_result"
    }
   ],
   "source": [
    "encCorCat.head() # Cheking encoded dataframe "
   ]
  },
  {
   "cell_type": "code",
   "execution_count": 233,
   "metadata": {},
   "outputs": [],
   "source": [
    "corr_matrix = numdf.corr() "
   ]
  },
  {
   "cell_type": "code",
   "execution_count": 234,
   "metadata": {},
   "outputs": [
    {
     "data": {
      "text/plain": [
       "(246008, 60)"
      ]
     },
     "execution_count": 234,
     "metadata": {},
     "output_type": "execute_result"
    }
   ],
   "source": [
    "numdf.shape"
   ]
  },
  {
   "cell_type": "code",
   "execution_count": 235,
   "metadata": {},
   "outputs": [],
   "source": [
    "for col in corr_matrix.columns: \n",
    "    for index in corr_matrix.index: #here i look at each index of each column of corr_matrix\n",
    "        corr_value = corr_matrix.loc[index,col] #and here by using .loc i can easily access the values of those index-column pairs\n",
    "        if col != index: #i wrote this code because i dont want to delete the \"1\" of each index=column pairs and i dont want to delete a column-index pair if they have high correlation with label\n",
    "            if corr_value < -0.50 or corr_value > 0.50:\n",
    "                if col in numdf.columns and index in numdf.columns:\n",
    "                    if numdf[col].std() > numdf[index].std():\n",
    "                     numdf.drop(col, axis=1, inplace=True)\n",
    "                    else:\n",
    "                     numdf.drop(index, axis=1, inplace=True)\n",
    "        else:\n",
    "            continue\n"
   ]
  },
  {
   "cell_type": "code",
   "execution_count": 236,
   "metadata": {},
   "outputs": [
    {
     "data": {
      "text/plain": [
       "(246008, 49)"
      ]
     },
     "execution_count": 236,
     "metadata": {},
     "output_type": "execute_result"
    }
   ],
   "source": [
    "numdf.shape"
   ]
  },
  {
   "cell_type": "code",
   "execution_count": 237,
   "metadata": {},
   "outputs": [],
   "source": [
    "param_grid = {\n",
    "    'n_features_to_select': [5, 10, 15],\n",
    "    \"step\" : [1]\n",
    "}"
   ]
  },
  {
   "cell_type": "code",
   "execution_count": 238,
   "metadata": {},
   "outputs": [
    {
     "data": {
      "text/html": [
       "<style>#sk-container-id-2 {color: black;background-color: white;}#sk-container-id-2 pre{padding: 0;}#sk-container-id-2 div.sk-toggleable {background-color: white;}#sk-container-id-2 label.sk-toggleable__label {cursor: pointer;display: block;width: 100%;margin-bottom: 0;padding: 0.3em;box-sizing: border-box;text-align: center;}#sk-container-id-2 label.sk-toggleable__label-arrow:before {content: \"▸\";float: left;margin-right: 0.25em;color: #696969;}#sk-container-id-2 label.sk-toggleable__label-arrow:hover:before {color: black;}#sk-container-id-2 div.sk-estimator:hover label.sk-toggleable__label-arrow:before {color: black;}#sk-container-id-2 div.sk-toggleable__content {max-height: 0;max-width: 0;overflow: hidden;text-align: left;background-color: #f0f8ff;}#sk-container-id-2 div.sk-toggleable__content pre {margin: 0.2em;color: black;border-radius: 0.25em;background-color: #f0f8ff;}#sk-container-id-2 input.sk-toggleable__control:checked~div.sk-toggleable__content {max-height: 200px;max-width: 100%;overflow: auto;}#sk-container-id-2 input.sk-toggleable__control:checked~label.sk-toggleable__label-arrow:before {content: \"▾\";}#sk-container-id-2 div.sk-estimator input.sk-toggleable__control:checked~label.sk-toggleable__label {background-color: #d4ebff;}#sk-container-id-2 div.sk-label input.sk-toggleable__control:checked~label.sk-toggleable__label {background-color: #d4ebff;}#sk-container-id-2 input.sk-hidden--visually {border: 0;clip: rect(1px 1px 1px 1px);clip: rect(1px, 1px, 1px, 1px);height: 1px;margin: -1px;overflow: hidden;padding: 0;position: absolute;width: 1px;}#sk-container-id-2 div.sk-estimator {font-family: monospace;background-color: #f0f8ff;border: 1px dotted black;border-radius: 0.25em;box-sizing: border-box;margin-bottom: 0.5em;}#sk-container-id-2 div.sk-estimator:hover {background-color: #d4ebff;}#sk-container-id-2 div.sk-parallel-item::after {content: \"\";width: 100%;border-bottom: 1px solid gray;flex-grow: 1;}#sk-container-id-2 div.sk-label:hover label.sk-toggleable__label {background-color: #d4ebff;}#sk-container-id-2 div.sk-serial::before {content: \"\";position: absolute;border-left: 1px solid gray;box-sizing: border-box;top: 0;bottom: 0;left: 50%;z-index: 0;}#sk-container-id-2 div.sk-serial {display: flex;flex-direction: column;align-items: center;background-color: white;padding-right: 0.2em;padding-left: 0.2em;position: relative;}#sk-container-id-2 div.sk-item {position: relative;z-index: 1;}#sk-container-id-2 div.sk-parallel {display: flex;align-items: stretch;justify-content: center;background-color: white;position: relative;}#sk-container-id-2 div.sk-item::before, #sk-container-id-2 div.sk-parallel-item::before {content: \"\";position: absolute;border-left: 1px solid gray;box-sizing: border-box;top: 0;bottom: 0;left: 50%;z-index: -1;}#sk-container-id-2 div.sk-parallel-item {display: flex;flex-direction: column;z-index: 1;position: relative;background-color: white;}#sk-container-id-2 div.sk-parallel-item:first-child::after {align-self: flex-end;width: 50%;}#sk-container-id-2 div.sk-parallel-item:last-child::after {align-self: flex-start;width: 50%;}#sk-container-id-2 div.sk-parallel-item:only-child::after {width: 0;}#sk-container-id-2 div.sk-dashed-wrapped {border: 1px dashed gray;margin: 0 0.4em 0.5em 0.4em;box-sizing: border-box;padding-bottom: 0.4em;background-color: white;}#sk-container-id-2 div.sk-label label {font-family: monospace;font-weight: bold;display: inline-block;line-height: 1.2em;}#sk-container-id-2 div.sk-label-container {text-align: center;}#sk-container-id-2 div.sk-container {/* jupyter's `normalize.less` sets `[hidden] { display: none; }` but bootstrap.min.css set `[hidden] { display: none !important; }` so we also need the `!important` here to be able to override the default hidden behavior on the sphinx rendered scikit-learn.org. See: https://github.com/scikit-learn/scikit-learn/issues/21755 */display: inline-block !important;position: relative;}#sk-container-id-2 div.sk-text-repr-fallback {display: none;}</style><div id=\"sk-container-id-2\" class=\"sk-top-container\"><div class=\"sk-text-repr-fallback\"><pre>RFE(estimator=LogisticRegression(max_iter=1000), n_features_to_select=5)</pre><b>In a Jupyter environment, please rerun this cell to show the HTML representation or trust the notebook. <br />On GitHub, the HTML representation is unable to render, please try loading this page with nbviewer.org.</b></div><div class=\"sk-container\" hidden><div class=\"sk-item sk-dashed-wrapped\"><div class=\"sk-label-container\"><div class=\"sk-label sk-toggleable\"><input class=\"sk-toggleable__control sk-hidden--visually\" id=\"sk-estimator-id-4\" type=\"checkbox\" ><label for=\"sk-estimator-id-4\" class=\"sk-toggleable__label sk-toggleable__label-arrow\">RFE</label><div class=\"sk-toggleable__content\"><pre>RFE(estimator=LogisticRegression(max_iter=1000), n_features_to_select=5)</pre></div></div></div><div class=\"sk-parallel\"><div class=\"sk-parallel-item\"><div class=\"sk-item\"><div class=\"sk-label-container\"><div class=\"sk-label sk-toggleable\"><input class=\"sk-toggleable__control sk-hidden--visually\" id=\"sk-estimator-id-5\" type=\"checkbox\" ><label for=\"sk-estimator-id-5\" class=\"sk-toggleable__label sk-toggleable__label-arrow\">estimator: LogisticRegression</label><div class=\"sk-toggleable__content\"><pre>LogisticRegression(max_iter=1000)</pre></div></div></div><div class=\"sk-serial\"><div class=\"sk-item\"><div class=\"sk-estimator sk-toggleable\"><input class=\"sk-toggleable__control sk-hidden--visually\" id=\"sk-estimator-id-6\" type=\"checkbox\" ><label for=\"sk-estimator-id-6\" class=\"sk-toggleable__label sk-toggleable__label-arrow\">LogisticRegression</label><div class=\"sk-toggleable__content\"><pre>LogisticRegression(max_iter=1000)</pre></div></div></div></div></div></div></div></div></div></div>"
      ],
      "text/plain": [
       "RFE(estimator=LogisticRegression(max_iter=1000), n_features_to_select=5)"
      ]
     },
     "execution_count": 238,
     "metadata": {},
     "output_type": "execute_result"
    }
   ],
   "source": [
    "rLdata=Ldata.values.ravel()\n",
    "regressLog = LogisticRegression(max_iter = 1000,)\n",
    "rfe = RFE(regressLog, n_features_to_select = 5, step = 1)\n",
    "rfe.fit(numdf,rLdata)"
   ]
  },
  {
   "cell_type": "code",
   "execution_count": 239,
   "metadata": {},
   "outputs": [
    {
     "name": "stdout",
     "output_type": "stream",
     "text": [
      "['Column42', 'Column64', 'Column71', 'Column86', 'Column114']\n",
      "[('Column1', 3), ('Column9', 25), ('Column13', 12), ('Column16', 33), ('Column20', 41), ('Column21', 11), ('Column24', 40), ('Column25', 32), ('Column26', 5), ('Column27', 24), ('Column28', 23), ('Column29', 28), ('Column30', 18), ('Column34', 9), ('Column35', 37), ('Column41', 2), ('Column43', 10), ('Column46', 15), ('Column47', 36), ('Column51', 19), ('Column54', 27), ('Column56', 29), ('Column58', 4), ('Column59', 6), ('Column63', 20), ('Column65', 14), ('Column66', 38), ('Column73', 13), ('Column74', 8), ('Column76', 43), ('Column77', 39), ('Column82', 22), ('Column84', 34), ('Column91', 35), ('Column95', 44), ('Column98', 42), ('Column99', 17), ('Column101', 26), ('Column106', 31), ('Column107', 30), ('Column109', 21), ('Column113', 7), ('Column117', 45), ('Column121', 16)]\n"
     ]
    }
   ],
   "source": [
    "choices = []\n",
    "others= []\n",
    "for i, col in zip(range(numdf.shape[0]), numdf.columns):\n",
    "    if rfe.support_[i]:\n",
    "        choices.append((col))\n",
    "    else:\n",
    "        others.append((col, rfe.ranking_[i]))\n",
    "print(choices)\n",
    "print(others)"
   ]
  },
  {
   "cell_type": "code",
   "execution_count": 240,
   "metadata": {},
   "outputs": [
    {
     "data": {
      "text/html": [
       "<div>\n",
       "<style scoped>\n",
       "    .dataframe tbody tr th:only-of-type {\n",
       "        vertical-align: middle;\n",
       "    }\n",
       "\n",
       "    .dataframe tbody tr th {\n",
       "        vertical-align: top;\n",
       "    }\n",
       "\n",
       "    .dataframe thead th {\n",
       "        text-align: right;\n",
       "    }\n",
       "</style>\n",
       "<table border=\"1\" class=\"dataframe\">\n",
       "  <thead>\n",
       "    <tr style=\"text-align: right;\">\n",
       "      <th></th>\n",
       "      <th>Column42</th>\n",
       "      <th>Column64</th>\n",
       "      <th>Column71</th>\n",
       "      <th>Column86</th>\n",
       "      <th>Column114</th>\n",
       "    </tr>\n",
       "  </thead>\n",
       "  <tbody>\n",
       "    <tr>\n",
       "      <th>0</th>\n",
       "      <td>10.0</td>\n",
       "      <td>-6378.0</td>\n",
       "      <td>-12298.0</td>\n",
       "      <td>0.0</td>\n",
       "      <td>-4670.0</td>\n",
       "    </tr>\n",
       "    <tr>\n",
       "      <th>1</th>\n",
       "      <td>13.0</td>\n",
       "      <td>-1292.0</td>\n",
       "      <td>-15375.0</td>\n",
       "      <td>-509.0</td>\n",
       "      <td>-1994.0</td>\n",
       "    </tr>\n",
       "    <tr>\n",
       "      <th>2</th>\n",
       "      <td>5.0</td>\n",
       "      <td>-7951.0</td>\n",
       "      <td>-19307.0</td>\n",
       "      <td>-1474.0</td>\n",
       "      <td>-2842.0</td>\n",
       "    </tr>\n",
       "    <tr>\n",
       "      <th>3</th>\n",
       "      <td>10.0</td>\n",
       "      <td>-1033.0</td>\n",
       "      <td>-17791.0</td>\n",
       "      <td>-2016.0</td>\n",
       "      <td>-1345.0</td>\n",
       "    </tr>\n",
       "    <tr>\n",
       "      <th>4</th>\n",
       "      <td>5.0</td>\n",
       "      <td>-2873.0</td>\n",
       "      <td>-8486.0</td>\n",
       "      <td>-695.0</td>\n",
       "      <td>-852.0</td>\n",
       "    </tr>\n",
       "  </tbody>\n",
       "</table>\n",
       "</div>"
      ],
      "text/plain": [
       "   Column42  Column64  Column71  Column86  Column114\n",
       "0      10.0   -6378.0  -12298.0       0.0    -4670.0\n",
       "1      13.0   -1292.0  -15375.0    -509.0    -1994.0\n",
       "2       5.0   -7951.0  -19307.0   -1474.0    -2842.0\n",
       "3      10.0   -1033.0  -17791.0   -2016.0    -1345.0\n",
       "4       5.0   -2873.0   -8486.0    -695.0     -852.0"
      ]
     },
     "execution_count": 240,
     "metadata": {},
     "output_type": "execute_result"
    }
   ],
   "source": [
    "SelectNdf=numdf[[i for i in choices]]\n",
    "SelectNdf.head()"
   ]
  },
  {
   "cell_type": "code",
   "execution_count": 242,
   "metadata": {},
   "outputs": [
    {
     "data": {
      "text/html": [
       "<div>\n",
       "<style scoped>\n",
       "    .dataframe tbody tr th:only-of-type {\n",
       "        vertical-align: middle;\n",
       "    }\n",
       "\n",
       "    .dataframe tbody tr th {\n",
       "        vertical-align: top;\n",
       "    }\n",
       "\n",
       "    .dataframe thead th {\n",
       "        text-align: right;\n",
       "    }\n",
       "</style>\n",
       "<table border=\"1\" class=\"dataframe\">\n",
       "  <thead>\n",
       "    <tr style=\"text-align: right;\">\n",
       "      <th></th>\n",
       "      <th>Column42</th>\n",
       "      <th>Column64</th>\n",
       "      <th>Column71</th>\n",
       "      <th>Column86</th>\n",
       "      <th>Column114</th>\n",
       "      <th>Column7_Advg</th>\n",
       "      <th>Column7_Agre</th>\n",
       "      <th>Column7_Bank</th>\n",
       "      <th>Column7_Bus1</th>\n",
       "      <th>Column7_Bus2</th>\n",
       "      <th>...</th>\n",
       "      <th>Column68_Secl</th>\n",
       "      <th>Column70_F</th>\n",
       "      <th>Column70_M</th>\n",
       "      <th>Column70_XNA</th>\n",
       "      <th>Column118_Cive</th>\n",
       "      <th>Column118_Mard</th>\n",
       "      <th>Column118_Sepd</th>\n",
       "      <th>Column118_Sind</th>\n",
       "      <th>Column118_Unkn</th>\n",
       "      <th>Column118_Widw</th>\n",
       "    </tr>\n",
       "  </thead>\n",
       "  <tbody>\n",
       "    <tr>\n",
       "      <th>0</th>\n",
       "      <td>10.0</td>\n",
       "      <td>-6378.0</td>\n",
       "      <td>-12298.0</td>\n",
       "      <td>0.0</td>\n",
       "      <td>-4670.0</td>\n",
       "      <td>0</td>\n",
       "      <td>0</td>\n",
       "      <td>0</td>\n",
       "      <td>0</td>\n",
       "      <td>1</td>\n",
       "      <td>...</td>\n",
       "      <td>0</td>\n",
       "      <td>1</td>\n",
       "      <td>0</td>\n",
       "      <td>0</td>\n",
       "      <td>0</td>\n",
       "      <td>1</td>\n",
       "      <td>0</td>\n",
       "      <td>0</td>\n",
       "      <td>0</td>\n",
       "      <td>0</td>\n",
       "    </tr>\n",
       "    <tr>\n",
       "      <th>1</th>\n",
       "      <td>13.0</td>\n",
       "      <td>-1292.0</td>\n",
       "      <td>-15375.0</td>\n",
       "      <td>-509.0</td>\n",
       "      <td>-1994.0</td>\n",
       "      <td>0</td>\n",
       "      <td>0</td>\n",
       "      <td>0</td>\n",
       "      <td>0</td>\n",
       "      <td>0</td>\n",
       "      <td>...</td>\n",
       "      <td>1</td>\n",
       "      <td>0</td>\n",
       "      <td>1</td>\n",
       "      <td>0</td>\n",
       "      <td>0</td>\n",
       "      <td>1</td>\n",
       "      <td>0</td>\n",
       "      <td>0</td>\n",
       "      <td>0</td>\n",
       "      <td>0</td>\n",
       "    </tr>\n",
       "    <tr>\n",
       "      <th>2</th>\n",
       "      <td>5.0</td>\n",
       "      <td>-7951.0</td>\n",
       "      <td>-19307.0</td>\n",
       "      <td>-1474.0</td>\n",
       "      <td>-2842.0</td>\n",
       "      <td>0</td>\n",
       "      <td>0</td>\n",
       "      <td>0</td>\n",
       "      <td>0</td>\n",
       "      <td>0</td>\n",
       "      <td>...</td>\n",
       "      <td>1</td>\n",
       "      <td>0</td>\n",
       "      <td>1</td>\n",
       "      <td>0</td>\n",
       "      <td>0</td>\n",
       "      <td>0</td>\n",
       "      <td>0</td>\n",
       "      <td>1</td>\n",
       "      <td>0</td>\n",
       "      <td>0</td>\n",
       "    </tr>\n",
       "    <tr>\n",
       "      <th>3</th>\n",
       "      <td>10.0</td>\n",
       "      <td>-1033.0</td>\n",
       "      <td>-17791.0</td>\n",
       "      <td>-2016.0</td>\n",
       "      <td>-1345.0</td>\n",
       "      <td>0</td>\n",
       "      <td>0</td>\n",
       "      <td>0</td>\n",
       "      <td>0</td>\n",
       "      <td>0</td>\n",
       "      <td>...</td>\n",
       "      <td>1</td>\n",
       "      <td>0</td>\n",
       "      <td>1</td>\n",
       "      <td>0</td>\n",
       "      <td>0</td>\n",
       "      <td>0</td>\n",
       "      <td>0</td>\n",
       "      <td>1</td>\n",
       "      <td>0</td>\n",
       "      <td>0</td>\n",
       "    </tr>\n",
       "    <tr>\n",
       "      <th>4</th>\n",
       "      <td>5.0</td>\n",
       "      <td>-2873.0</td>\n",
       "      <td>-8486.0</td>\n",
       "      <td>-695.0</td>\n",
       "      <td>-852.0</td>\n",
       "      <td>0</td>\n",
       "      <td>0</td>\n",
       "      <td>0</td>\n",
       "      <td>0</td>\n",
       "      <td>0</td>\n",
       "      <td>...</td>\n",
       "      <td>0</td>\n",
       "      <td>1</td>\n",
       "      <td>0</td>\n",
       "      <td>0</td>\n",
       "      <td>0</td>\n",
       "      <td>0</td>\n",
       "      <td>0</td>\n",
       "      <td>1</td>\n",
       "      <td>0</td>\n",
       "      <td>0</td>\n",
       "    </tr>\n",
       "  </tbody>\n",
       "</table>\n",
       "<p>5 rows × 96 columns</p>\n",
       "</div>"
      ],
      "text/plain": [
       "   Column42  Column64  Column71  Column86  Column114  Column7_Advg  \\\n",
       "0      10.0   -6378.0  -12298.0       0.0    -4670.0             0   \n",
       "1      13.0   -1292.0  -15375.0    -509.0    -1994.0             0   \n",
       "2       5.0   -7951.0  -19307.0   -1474.0    -2842.0             0   \n",
       "3      10.0   -1033.0  -17791.0   -2016.0    -1345.0             0   \n",
       "4       5.0   -2873.0   -8486.0    -695.0     -852.0             0   \n",
       "\n",
       "   Column7_Agre  Column7_Bank  Column7_Bus1  Column7_Bus2  ...  Column68_Secl  \\\n",
       "0             0             0             0             1  ...              0   \n",
       "1             0             0             0             0  ...              1   \n",
       "2             0             0             0             0  ...              1   \n",
       "3             0             0             0             0  ...              1   \n",
       "4             0             0             0             0  ...              0   \n",
       "\n",
       "   Column70_F  Column70_M  Column70_XNA  Column118_Cive  Column118_Mard  \\\n",
       "0           1           0             0               0               1   \n",
       "1           0           1             0               0               1   \n",
       "2           0           1             0               0               0   \n",
       "3           0           1             0               0               0   \n",
       "4           1           0             0               0               0   \n",
       "\n",
       "   Column118_Sepd  Column118_Sind  Column118_Unkn  Column118_Widw  \n",
       "0               0               0               0               0  \n",
       "1               0               0               0               0  \n",
       "2               0               1               0               0  \n",
       "3               0               1               0               0  \n",
       "4               0               1               0               0  \n",
       "\n",
       "[5 rows x 96 columns]"
      ]
     },
     "execution_count": 242,
     "metadata": {},
     "output_type": "execute_result"
    }
   ],
   "source": [
    "opFdata=pd.concat([SelectNdf,encCorCat],axis=1)  # Merging our two dataframes that are results of finding realation between label column\n",
    "opFdata.head() # Cheking new dataframe "
   ]
  },
  {
   "cell_type": "code",
   "execution_count": 244,
   "metadata": {},
   "outputs": [],
   "source": [
    "smote = SMOTE(sampling_strategy='auto', random_state=2)\n",
    "X_smote, y_smote = smote.fit_resample(opFdata, Ldata)"
   ]
  },
  {
   "attachments": {},
   "cell_type": "markdown",
   "metadata": {},
   "source": [
    "                                                     Logistic Regression\n",
    "                                                            "
   ]
  },
  {
   "cell_type": "code",
   "execution_count": 245,
   "metadata": {},
   "outputs": [],
   "source": [
    "def logreg(Features, Label,testsize,testRandState):\n",
    "\n",
    "    \"\"\"\n",
    "    This function takes two dataframes that contains Feature and Label data, applies logistic regresion with given parameters returns evaluation metrics\n",
    "    \n",
    "    --Parameters--\n",
    "\n",
    "    Features: Feature dataframe \n",
    "    Label: Label dataframe\n",
    "    testsize:  \"test_size\" parameter from sklearn library for train_test_split function, this parameter decides the split between test and training data\n",
    "    testRandState: \"random_state\" parameter from sklearn library for train_test_split function, this parameter allows the function to control randomizing, by setting a seed\n",
    "    --Returns--\n",
    "    accuracy,precision,recall and f1 scores                                                                                                                                       \n",
    "                                                                                                                \n",
    "                                                                                            \"\"\"\n",
    "    X_train, X_test, y_train, y_test = train_test_split(Features, Label, test_size=testsize, random_state=testRandState) # Spliting data with train_test_split function from sklearn \n",
    "    lr=LogisticRegression()\n",
    "    lr.fit(X_train, y_train)\n",
    "    y_pred= lr.predict(X_test)\n",
    "    accuracy=accuracy_score(y_test,y_pred)*100\n",
    "    cm = confusion_matrix(y_test, y_pred) \n",
    "    print(\"Confusion Matrix:\")\n",
    "    print(cm)\n",
    "\n",
    "    # Calculate evaluation metrics\n",
    "    accuracy = accuracy_score(y_test, y_pred) \n",
    "    precision = precision_score(y_test, y_pred, average='weighted') \n",
    "    recall = recall_score(y_test, y_pred, average='weighted') \n",
    "    f1 = f1_score(y_test, y_pred, average='weighted') \n",
    "    return   print(\"Accuracy:\", accuracy*100) , print(\"Precision:\", precision*100),print(\"Recall:\", recall*100),print(\"F1-score:\", f1)"
   ]
  },
  {
   "cell_type": "code",
   "execution_count": 246,
   "metadata": {},
   "outputs": [
    {
     "name": "stderr",
     "output_type": "stream",
     "text": [
      "C:\\Users\\Aleyna\\AppData\\Local\\Packages\\PythonSoftwareFoundation.Python.3.9_qbz5n2kfra8p0\\LocalCache\\local-packages\\Python39\\site-packages\\sklearn\\utils\\validation.py:1143: DataConversionWarning: A column-vector y was passed when a 1d array was expected. Please change the shape of y to (n_samples, ), for example using ravel().\n",
      "  y = column_or_1d(y, warn=True)\n"
     ]
    },
    {
     "name": "stdout",
     "output_type": "stream",
     "text": [
      "Confusion Matrix:\n",
      "[[45197     0]\n",
      " [ 4005     0]]\n",
      "Accuracy: 91.8600869883338\n",
      "Precision: 84.38275581504254\n",
      "Recall: 91.8600869883338\n",
      "F1-score: 0.8796280366554143\n"
     ]
    },
    {
     "name": "stderr",
     "output_type": "stream",
     "text": [
      "C:\\Users\\Aleyna\\AppData\\Local\\Packages\\PythonSoftwareFoundation.Python.3.9_qbz5n2kfra8p0\\LocalCache\\local-packages\\Python39\\site-packages\\sklearn\\metrics\\_classification.py:1344: UndefinedMetricWarning: Precision is ill-defined and being set to 0.0 in labels with no predicted samples. Use `zero_division` parameter to control this behavior.\n",
      "  _warn_prf(average, modifier, msg_start, len(result))\n"
     ]
    },
    {
     "data": {
      "text/plain": [
       "(None, None, None, None)"
      ]
     },
     "execution_count": 246,
     "metadata": {},
     "output_type": "execute_result"
    }
   ],
   "source": [
    "logreg(Features=opFdata, Label=Ldata,testsize=0.2,testRandState=4)"
   ]
  },
  {
   "cell_type": "code",
   "execution_count": 247,
   "metadata": {},
   "outputs": [
    {
     "name": "stderr",
     "output_type": "stream",
     "text": [
      "C:\\Users\\Aleyna\\AppData\\Local\\Packages\\PythonSoftwareFoundation.Python.3.9_qbz5n2kfra8p0\\LocalCache\\local-packages\\Python39\\site-packages\\sklearn\\utils\\validation.py:1143: DataConversionWarning: A column-vector y was passed when a 1d array was expected. Please change the shape of y to (n_samples, ), for example using ravel().\n",
      "  y = column_or_1d(y, warn=True)\n",
      "C:\\Users\\Aleyna\\AppData\\Local\\Packages\\PythonSoftwareFoundation.Python.3.9_qbz5n2kfra8p0\\LocalCache\\local-packages\\Python39\\site-packages\\sklearn\\linear_model\\_logistic.py:458: ConvergenceWarning: lbfgs failed to converge (status=1):\n",
      "STOP: TOTAL NO. of ITERATIONS REACHED LIMIT.\n",
      "\n",
      "Increase the number of iterations (max_iter) or scale the data as shown in:\n",
      "    https://scikit-learn.org/stable/modules/preprocessing.html\n",
      "Please also refer to the documentation for alternative solver options:\n",
      "    https://scikit-learn.org/stable/modules/linear_model.html#logistic-regression\n",
      "  n_iter_i = _check_optimize_result(\n"
     ]
    },
    {
     "name": "stdout",
     "output_type": "stream",
     "text": [
      "Confusion Matrix:\n",
      "[[40976  4272]\n",
      " [ 8782 36430]]\n",
      "Accuracy: 85.56931240327216\n",
      "Precision: 85.9259655802246\n",
      "Recall: 85.56931240327216\n",
      "F1-score: 0.8553306490605407\n"
     ]
    },
    {
     "data": {
      "text/plain": [
       "(None, None, None, None)"
      ]
     },
     "execution_count": 247,
     "metadata": {},
     "output_type": "execute_result"
    }
   ],
   "source": [
    "logreg(Features=X_smote, Label=y_smote, testsize=0.2, testRandState=4)"
   ]
  },
  {
   "attachments": {},
   "cell_type": "markdown",
   "metadata": {},
   "source": [
    "                                                    Decision Tree"
   ]
  },
  {
   "cell_type": "code",
   "execution_count": 248,
   "metadata": {},
   "outputs": [],
   "source": [
    "def OptimalPar(Features, Label, max_depthLow, max_depthUp, cvnum,min_samples_leafL, min_samples_leafU):\n",
    "    \"\"\"\n",
    "    \n",
    "    This function takes two dataframes that contains Feature and Label data, applies grid search with given parameters returns Best Hyperparameters and Best Accuracy with those parameters\n",
    "    \n",
    "    --Parameters--\n",
    "\n",
    "    Features: Feature dataframe \n",
    "    Label: Label dataframe\n",
    "    max_depthLow: This parameter decides the minimum threshold for  random iteration to use grid search to find optimum parameters over \"max_depth\" parameter from the sklearn library for DecisionTreeClassifier\n",
    "    max_depthUp: This parameter decides the maximum threshold for  random iteration to use grid search to find optimum parameters over \"max_depth\" parameter from the sklearn library for DecisionTreeClassifier\n",
    "    cvnum: \"cv\" parameter from sklearn library for GridSearchCV, this parameter decides the cross-validation splitting strategy.                                                        \n",
    "    min_samples_leafL: This parameter decides the minimum threshold for  random iteration to use grid search to find optimum parameters over \"min_samples_leaf\" parameter from sklearn library for DecisionTreeClassifier, this parameter decides the minimum sample number required to be at a leaf node \n",
    "    min_samples_leafU: This parameter decides the maximum threshold for  random iteration to use grid search to find optimum parameters over \"min_samples_leaf\" parameter from sklearn library for DecisionTreeClassifier, this parameter decides the minimum sample number required to be at a leaf node\n",
    "\n",
    "\n",
    "    --Returns--\n",
    "      Best Hyperparameters and Best Accuracy with those parameters                                                      \n",
    "                                                            \"\"\"\n",
    "                                                                    \n",
    "                                                                                                \n",
    "                                                                                                \n",
    "                                                                                               \n",
    "    Dtc = DecisionTreeClassifier()\n",
    "    param_grid = {\n",
    "        'max_depth': list(range(max_depthLow, max_depthUp)),\n",
    "        'min_samples_leaf': list(range(min_samples_leafL, min_samples_leafU)),\n",
    "    }\n",
    "    grid_search = GridSearchCV(Dtc, param_grid, cv=cvnum)\n",
    "    grid_search.fit(Features, Label)\n",
    "    best_paramater=grid_search.best_params_\n",
    "    return print(\"Best Hyperparameters: \", grid_search.best_params_), print(\"Best Accuracy: \", grid_search.best_score_)"
   ]
  },
  {
   "cell_type": "code",
   "execution_count": 249,
   "metadata": {},
   "outputs": [
    {
     "name": "stdout",
     "output_type": "stream",
     "text": [
      "Best Hyperparameters:  {'max_depth': 1, 'min_samples_leaf': 1}\n",
      "Best Accuracy:  0.9192709180109226\n"
     ]
    }
   ],
   "source": [
    "best_paramater=OptimalPar(Features=opFdata, Label=Ldata, max_depthLow=1, max_depthUp=10, cvnum=5,min_samples_leafL=1,min_samples_leafU=5)"
   ]
  },
  {
   "cell_type": "code",
   "execution_count": 250,
   "metadata": {},
   "outputs": [
    {
     "name": "stdout",
     "output_type": "stream",
     "text": [
      "Best Hyperparameters:  {'max_depth': 9, 'min_samples_leaf': 4}\n",
      "Best Accuracy:  0.9047043546114389\n"
     ]
    }
   ],
   "source": [
    "best_paramater= OptimalPar(Features=X_smote, Label = y_smote, max_depthLow=1, max_depthUp=10, cvnum=5, min_samples_leafL=1, min_samples_leafU=5)"
   ]
  },
  {
   "cell_type": "code",
   "execution_count": 251,
   "metadata": {},
   "outputs": [],
   "source": [
    "def DecisionTree(Feature,label,testsize,testRandState,maxDepth,minSamplesLeaf):\n",
    "    \"\"\"\n",
    "    \n",
    "    This function takes two dataframes that contains Feature and Label data, applies grid search with given parameters returns Best Hyperparameters and Best Accuracy with those parameters\n",
    "    \n",
    "    --Parameters--\n",
    "\n",
    "    Features: Feature dataframe \n",
    "    Label: Label dataframe\n",
    "    testsize:  \"test_size\" parameter from sklearn library for train_test_split function, this parameter decides the split between test and training data\n",
    "    testRandState: \"random_state\" parameter from sklearn library for train_test_split function, this parameter allows the function to control randomizing, by setting a seed\n",
    "    maxDepth: \"max_depth\" parameter from the sklearn library for DecisionTreeClassifier       \n",
    "    minSamplesLeaf: \"min_samples_leaf\" parameter from sklearn library for DecisionTreeClassifier, this parameter decides the minimum sample number required to be at a leaf node \n",
    "\n",
    "\n",
    "    --Returns--\n",
    "    Best Hyperparameters and Best Accuracy with those parameters                                                      \n",
    "                                                                                                                            \"\"\"\n",
    "\n",
    "    X_train, X_test, y_train, y_test = train_test_split( Feature, label, test_size = testsize, random_state = testRandState)\n",
    "    Dtc=DecisionTreeClassifier(max_depth=maxDepth, min_samples_leaf=minSamplesLeaf)\n",
    "    Dtc.fit(X_train, y_train)\n",
    "    y_pred = Dtc.predict(X_test)      \n",
    "    accuracy=accuracy_score(y_test,y_pred)*100\n",
    "    cm = confusion_matrix(y_test, y_pred) \n",
    "    print(\"Confusion Matrix:\")\n",
    "    print(cm)\n",
    "\n",
    "   \n",
    "    accuracy = accuracy_score(y_test, y_pred) \n",
    "    precision = precision_score(y_test, y_pred, average='weighted') \n",
    "    recall = recall_score(y_test, y_pred, average='weighted') \n",
    "    f1 = f1_score(y_test, y_pred, average='weighted') \n",
    "    return   print(\"Accuracy:\", accuracy*100) , print(\"Precision:\", precision*100),print(\"Recall:\", recall*100),print(\"F1-score:\", f1)\n",
    "   "
   ]
  },
  {
   "cell_type": "code",
   "execution_count": 252,
   "metadata": {},
   "outputs": [
    {
     "name": "stdout",
     "output_type": "stream",
     "text": [
      "Confusion Matrix:\n",
      "[[45197     0]\n",
      " [ 4005     0]]\n",
      "Accuracy: 91.8600869883338\n",
      "Precision: 84.38275581504254\n",
      "Recall: 91.8600869883338\n",
      "F1-score: 0.8796280366554143\n"
     ]
    },
    {
     "name": "stderr",
     "output_type": "stream",
     "text": [
      "C:\\Users\\Aleyna\\AppData\\Local\\Packages\\PythonSoftwareFoundation.Python.3.9_qbz5n2kfra8p0\\LocalCache\\local-packages\\Python39\\site-packages\\sklearn\\metrics\\_classification.py:1344: UndefinedMetricWarning: Precision is ill-defined and being set to 0.0 in labels with no predicted samples. Use `zero_division` parameter to control this behavior.\n",
      "  _warn_prf(average, modifier, msg_start, len(result))\n"
     ]
    },
    {
     "data": {
      "text/plain": [
       "(None, None, None, None)"
      ]
     },
     "execution_count": 252,
     "metadata": {},
     "output_type": "execute_result"
    }
   ],
   "source": [
    "DecisionTree(Feature=opFdata,label=Ldata,testsize=0.2,testRandState=4,maxDepth=1,minSamplesLeaf=1)"
   ]
  },
  {
   "cell_type": "code",
   "execution_count": 253,
   "metadata": {},
   "outputs": [
    {
     "name": "stdout",
     "output_type": "stream",
     "text": [
      "Confusion Matrix:\n",
      "[[44072  1176]\n",
      " [ 7685 37527]]\n",
      "Accuracy: 90.20451028078709\n",
      "Precision: 91.05427145164029\n",
      "Recall: 90.20451028078709\n",
      "F1-score: 0.901532458243732\n"
     ]
    },
    {
     "data": {
      "text/plain": [
       "(None, None, None, None)"
      ]
     },
     "execution_count": 253,
     "metadata": {},
     "output_type": "execute_result"
    }
   ],
   "source": [
    "DecisionTree(Feature= X_smote, label =y_smote, testsize=0.2, testRandState=4, maxDepth=9, minSamplesLeaf=4)"
   ]
  },
  {
   "attachments": {},
   "cell_type": "markdown",
   "metadata": {},
   "source": [
    "                                                                Random Forest"
   ]
  },
  {
   "cell_type": "code",
   "execution_count": 254,
   "metadata": {},
   "outputs": [],
   "source": [
    "def OptimalParam(Feature,label,testsize,testRandState,n_estimatorRandLow,n_estimatorRandHigh,max_depthRandLow,max_deptRandhHigh,n_iterValue,crossValNum): \n",
    "    \"\"\"\n",
    "    \n",
    "This function takes two dataframes that contains Feature and Label data, applies randomized search with given parameters returns best_param: Variable that contains best parameters that acquired by RandomizedSearchCV\n",
    "\n",
    "    \n",
    "--Parameters--\n",
    "\n",
    "Features: Feature dataframe \n",
    "Label: Label dataframe\n",
    "testsize:  \"test_size\" parameter from sklearn library for train_test_split function, this parameter decides the split between test and training data\n",
    "testRandState: \"random_state\" parameter from sklearn library for train_test_split function, this parameter allows the function to control randomizing, by setting a seed\n",
    "n_estimatorRandLow:This parameter decides the minimum threshold for  random iteration to use randomized search to find optimum parameters  over \"n_estimators\" parameter from the sklearn library for RandomForestClassifier    \n",
    "n_estimatorRandHigh: This parameter decides the maximum threshold for  random iteration to use randomized search to find optimum parameters  over \"n_estimators\" parameter from the sklearn library for RandomForestClassifier\n",
    "max_depthRandLow: This parameter decides the minimum threshold for  random iteration to use randomized search to find optimum parameters over \"max_depth\" parameter from the sklearn library for RandomForestClassifier\n",
    "max_deptRandhHigh: This parameter decides the maximum threshold for  random iteration to use randomized search to find optimum parameters over \"max_depth\" parameter from the sklearn library for RandomForestClassifier\n",
    "n_iterValue: \"n_iter\" parameter from sklearn library for RandomizedSearchCV, this parameter decides the iteration number to trade off with the run-time of the function and quality of the solution         \n",
    "crossValNum: \"cv\" parameter from sklearn library for RandomizedSearchCV, this parameter decides the cross-validation splitting strategy.                                                        \n",
    "\n",
    "\n",
    "--Returns--\n",
    "best_param: Variable that contains best parameters that acquired by RandomizedSearchCV\n",
    "                                                   \n",
    "                                                            \"\"\"                                                                                                                        \n",
    "    labelrev=label.values.ravel()\n",
    "    X_train, X_test, y_train, y_test = train_test_split( Feature, labelrev, test_size = testsize, random_state = testRandState)\n",
    "    param_dist={'n_estimators': randint(n_estimatorRandLow,n_estimatorRandHigh),\n",
    "              'max_depth': randint(max_depthRandLow,max_deptRandhHigh)}\n",
    "    randF=RandomForestClassifier()\n",
    "    rand_search=RandomizedSearchCV(randF, \n",
    "                                 param_distributions = param_dist, \n",
    "                                 n_iter=n_iterValue, \n",
    "                                 cv=crossValNum)\n",
    "    rand_search.fit(X_train, y_train)\n",
    "    best_param = rand_search.best_estimator_\n",
    "    return best_param"
   ]
  },
  {
   "cell_type": "code",
   "execution_count": 255,
   "metadata": {},
   "outputs": [],
   "source": [
    "best_param= OptimalParam(Feature=opFdata,label=Ldata,testsize=0.2,testRandState=100,n_estimatorRandLow=50,n_estimatorRandHigh=500,max_depthRandLow=1,max_deptRandhHigh=20,n_iterValue=5,crossValNum=5)"
   ]
  },
  {
   "cell_type": "code",
   "execution_count": 257,
   "metadata": {},
   "outputs": [],
   "source": [
    "def RandomForest(Feature,label,testsize,testRandState,maxDepthNum,n_estimNum):\n",
    "     \"\"\"\n",
    "    \n",
    "    This function takes two dataframes that contains Feature and Label data, applies RandomForest with given parameters returns evaluation metrics\n",
    "    \n",
    "    --Parameters--\n",
    "\n",
    "    Features: Feature dataframe \n",
    "    Label: Label dataframe\n",
    "    testsize:  \"test_size\" parameter from sklearn library for train_test_split function, this parameter decides the split between test and training data\n",
    "    testRandState: \"random_state\" parameter from sklearn library for train_test_split function, this parameter allows the function to control randomizing, by setting a seed\n",
    "    maxDepthNum: \"max_depth\" parameter from the sklearn library for DecisionTreeClassifier       \n",
    "    n_estimNum: \"n_estimators\" parameter from the sklearn library for RandomForestClassifier  \n",
    "\n",
    "\n",
    "    --Returns--\n",
    "    Accuracy,precision,recall and f1 scores \n",
    "                                                         \n",
    "                                                                                                                            \"\"\"\n",
    "\n",
    "\n",
    "     X_train, X_test, y_train, y_test = train_test_split( Feature, label, test_size = testsize, random_state = testRandState)\n",
    "     rf = RandomForestClassifier(n_estimators=n_estimNum, max_depth=maxDepthNum)\n",
    "     rf.fit(X_train, y_train)\n",
    "     yPred=rf.predict(X_test)\n",
    "     accuracy = accuracy_score(y_test, yPred)\n",
    "     accuracy = accuracy_score(y_test, yPred) \n",
    "     precision = precision_score(y_test, yPred, average='weighted') \n",
    "     recall = recall_score(y_test, yPred, average='weighted') \n",
    "     f1 = f1_score(y_test, yPred, average='weighted') \n",
    "     return   print(\"Accuracy:\", accuracy) , print(\"Precision:\", precision),print(\"Recall:\", recall),print(\"F1-score:\", f1)\n",
    "    \n"
   ]
  },
  {
   "cell_type": "code",
   "execution_count": 258,
   "metadata": {},
   "outputs": [
    {
     "name": "stderr",
     "output_type": "stream",
     "text": [
      "C:\\Users\\Aleyna\\AppData\\Local\\Temp\\ipykernel_4876\\2388154325.py:4: DataConversionWarning: A column-vector y was passed when a 1d array was expected. Please change the shape of y to (n_samples,), for example using ravel().\n",
      "  rf.fit(X_train, y_train)\n"
     ]
    },
    {
     "name": "stdout",
     "output_type": "stream",
     "text": [
      "Accuracy: 0.9181740579651234\n",
      "Precision: 0.8430436007201418\n",
      "Recall: 0.9181740579651234\n",
      "F1-score: 0.8790063625555197\n"
     ]
    },
    {
     "name": "stderr",
     "output_type": "stream",
     "text": [
      "C:\\Users\\Aleyna\\AppData\\Local\\Packages\\PythonSoftwareFoundation.Python.3.9_qbz5n2kfra8p0\\LocalCache\\local-packages\\Python39\\site-packages\\sklearn\\metrics\\_classification.py:1344: UndefinedMetricWarning: Precision is ill-defined and being set to 0.0 in labels with no predicted samples. Use `zero_division` parameter to control this behavior.\n",
      "  _warn_prf(average, modifier, msg_start, len(result))\n"
     ]
    },
    {
     "data": {
      "text/plain": [
       "(None, None, None, None)"
      ]
     },
     "execution_count": 258,
     "metadata": {},
     "output_type": "execute_result"
    }
   ],
   "source": [
    "RandomForest(Feature=opFdata,label=Ldata,testsize=0.2,testRandState=100,maxDepthNum=best_param.max_depth,n_estimNum=best_param.n_estimators)"
   ]
  },
  {
   "attachments": {},
   "cell_type": "markdown",
   "metadata": {},
   "source": [
    "                                        Random forest smote\n",
    "                                    "
   ]
  },
  {
   "cell_type": "code",
   "execution_count": 259,
   "metadata": {},
   "outputs": [],
   "source": [
    "def OptimalParam(Feature,label,testsize,testRandState,n_estimatorRandLow,n_estimatorRandHigh,max_depthRandLow,max_deptRandhHigh,n_iterValue,crossValNum): \n",
    "\n",
    "    \"\"\"   This function takes two dataframes that contains Feature and Label data, applies randomized search with given parameters returns best_param: Variable that contains best parameters that acquired by RandomizedSearchCV\n",
    "\n",
    "    \n",
    "--Parameters--\n",
    "\n",
    "Features: Feature dataframe \n",
    "Label: Label dataframe\n",
    "testsize:  \"test_size\" parameter from sklearn library for train_test_split function, this parameter decides the split between test and training data\n",
    "testRandState: \"random_state\" parameter from sklearn library for train_test_split function, this parameter allows the function to control randomizing, by setting a seed\n",
    "n_estimatorRandLow:This parameter decides the minimum threshold for  random iteration to use randomized search to find optimum parameters  over \"n_estimators\" parameter from the sklearn library for RandomForestClassifier    \n",
    "n_estimatorRandHigh: This parameter decides the maximum threshold for  random iteration to use randomized search to find optimum parameters  over \"n_estimators\" parameter from the sklearn library for RandomForestClassifier\n",
    "max_depthRandLow: This parameter decides the minimum threshold for  random iteration to use randomized search to find optimum parameters over \"max_depth\" parameter from the sklearn library for RandomForestClassifier\n",
    "max_deptRandhHigh: This parameter decides the maximum threshold for  random iteration to use randomized search to find optimum parameters over \"max_depth\" parameter from the sklearn library for RandomForestClassifier\n",
    "n_iterValue: \"n_iter\" parameter from sklearn library for RandomizedSearchCV, this parameter decides the iteration number to trade off with the run-time of the function and quality of the solution         \n",
    "crossValNum: \"cv\" parameter from sklearn library for RandomizedSearchCV, this parameter decides the cross-validation splitting strategy.                                                        \n",
    "\n",
    "\n",
    "--Returns--\n",
    "best_param: Variable that contains best parameters that acquired by RandomizedSearchCV\n",
    "                                                   \n",
    "                                                            \"\"\"                                                                                                                             \n",
    "    labelrev=label.values.ravel()\n",
    "    X_train, X_test, y_train, y_test = train_test_split( Feature, labelrev, test_size = testsize, random_state = testRandState)\n",
    "    param_dist={'n_estimators': randint(n_estimatorRandLow,n_estimatorRandHigh),\n",
    "              'max_depth': randint(max_depthRandLow,max_deptRandhHigh)}\n",
    "    randF=RandomForestClassifier()\n",
    "    rand_search=RandomizedSearchCV(randF, \n",
    "                                 param_distributions = param_dist, \n",
    "                                 n_iter=n_iterValue, \n",
    "                                 cv=crossValNum)\n",
    "    rand_search.fit(X_train, y_train)\n",
    "    best_param = rand_search.best_estimator_\n",
    "    return best_param"
   ]
  },
  {
   "cell_type": "code",
   "execution_count": 260,
   "metadata": {},
   "outputs": [],
   "source": [
    "best_param=OptimalParam(Feature=X_smote, label=y_smote, testsize=0.2, testRandState=100, n_estimatorRandLow=50,n_estimatorRandHigh=500,max_depthRandLow=1, max_deptRandhHigh=20,n_iterValue=5, crossValNum=5)"
   ]
  },
  {
   "cell_type": "code",
   "execution_count": 261,
   "metadata": {},
   "outputs": [],
   "source": [
    "def RandomForest(Feature,label,testsize,testRandState,maxDepthNum,n_estimNum):\n",
    "     \"\"\"\n",
    "    \n",
    "    This function takes two dataframes that contains Feature and Label data, applies RandomForest with given parameters returns evaluation metrics\n",
    "    \n",
    "    --Parameters--\n",
    "\n",
    "    Features: Feature dataframe \n",
    "    Label: Label dataframe\n",
    "    testsize:  \"test_size\" parameter from sklearn library for train_test_split function, this parameter decides the split between test and training data\n",
    "    testRandState: \"random_state\" parameter from sklearn library for train_test_split function, this parameter allows the function to control randomizing, by setting a seed\n",
    "    maxDepthNum: \"max_depth\" parameter from the sklearn library for DecisionTreeClassifier       \n",
    "    n_estimNum: \"n_estimators\" parameter from the sklearn library for RandomForestClassifier  \n",
    "\n",
    "\n",
    "    --Returns--\n",
    "    Accuracy,precision,recall and f1 scores \n",
    "                                                         \n",
    "                                                                                                                            \"\"\"\n",
    "     X_train, X_test, y_train, y_test = train_test_split( Feature, label, test_size = testsize, random_state = testRandState)\n",
    "     rf = RandomForestClassifier(n_estimators=n_estimNum, max_depth=maxDepthNum)\n",
    "     rf.fit(X_train, y_train)\n",
    "     yPred=rf.predict(X_test)\n",
    "     accuracy = accuracy_score(y_test, yPred)\n",
    "     accuracy = accuracy_score(y_test, yPred) \n",
    "     precision = precision_score(y_test, yPred, average='weighted') \n",
    "     recall = recall_score(y_test, yPred, average='weighted') \n",
    "     f1 = f1_score(y_test, yPred, average='weighted') \n",
    "     return   print(\"Accuracy:\", accuracy) , print(\"Precision:\", precision),print(\"Recall:\", recall),print(\"F1-score:\", f1)\n",
    "    \n"
   ]
  },
  {
   "cell_type": "code",
   "execution_count": 265,
   "metadata": {},
   "outputs": [
    {
     "name": "stderr",
     "output_type": "stream",
     "text": [
      "C:\\Users\\Aleyna\\AppData\\Local\\Temp\\ipykernel_4876\\2388154325.py:4: DataConversionWarning: A column-vector y was passed when a 1d array was expected. Please change the shape of y to (n_samples,), for example using ravel().\n",
      "  rf.fit(X_train, y_train)\n"
     ]
    },
    {
     "name": "stdout",
     "output_type": "stream",
     "text": [
      "Accuracy: 0.9354189697103692\n",
      "Precision: 0.9420533082263733\n",
      "Recall: 0.9354189697103692\n",
      "F1-score: 0.9351837864656276\n"
     ]
    },
    {
     "data": {
      "text/plain": [
       "(None, None, None, None)"
      ]
     },
     "execution_count": 265,
     "metadata": {},
     "output_type": "execute_result"
    }
   ],
   "source": [
    "RandomForest(Feature=X_smote, label=y_smote,testsize = 0.2, testRandState=100,maxDepthNum=best_param.max_depth,n_estimNum=best_param.n_estimators )"
   ]
  }
 ],
 "metadata": {
  "kernelspec": {
   "display_name": "Python 3",
   "language": "python",
   "name": "python3"
  },
  "language_info": {
   "codemirror_mode": {
    "name": "ipython",
    "version": 3
   },
   "file_extension": ".py",
   "mimetype": "text/x-python",
   "name": "python",
   "nbconvert_exporter": "python",
   "pygments_lexer": "ipython3",
   "version": "3.9.13"
  },
  "orig_nbformat": 4
 },
 "nbformat": 4,
 "nbformat_minor": 2
}
